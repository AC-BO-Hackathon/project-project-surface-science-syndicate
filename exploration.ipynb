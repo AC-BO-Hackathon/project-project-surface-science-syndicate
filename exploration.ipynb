{
 "cells": [
  {
   "cell_type": "markdown",
   "metadata": {},
   "source": [
    "# Data Exploration"
   ]
  },
  {
   "cell_type": "code",
   "execution_count": 1,
   "metadata": {},
   "outputs": [],
   "source": [
    "import pandas as pd\n",
    "import numpy as np"
   ]
  },
  {
   "cell_type": "code",
   "execution_count": 2,
   "metadata": {},
   "outputs": [
    {
     "ename": "FileNotFoundError",
     "evalue": "[Errno 2] No such file or directory: 'cordata.xlsx'",
     "output_type": "error",
     "traceback": [
      "\u001b[1;31m---------------------------------------------------------------------------\u001b[0m",
      "\u001b[1;31mFileNotFoundError\u001b[0m                         Traceback (most recent call last)",
      "Cell \u001b[1;32mIn[2], line 1\u001b[0m\n\u001b[1;32m----> 1\u001b[0m df_full \u001b[38;5;241m=\u001b[39m \u001b[43mpd\u001b[49m\u001b[38;5;241;43m.\u001b[39;49m\u001b[43mread_excel\u001b[49m\u001b[43m(\u001b[49m\u001b[38;5;124;43m'\u001b[39;49m\u001b[38;5;124;43mcordata.xlsx\u001b[39;49m\u001b[38;5;124;43m'\u001b[39;49m\u001b[43m)\u001b[49m \u001b[38;5;66;03m# contains all data\u001b[39;00m\n\u001b[0;32m      2\u001b[0m df_Al \u001b[38;5;241m=\u001b[39m pd\u001b[38;5;241m.\u001b[39mread_excel(\u001b[38;5;124m'\u001b[39m\u001b[38;5;124mcordata_Al.xlsx\u001b[39m\u001b[38;5;124m'\u001b[39m) \u001b[38;5;66;03m# only Al alloy class\u001b[39;00m\n",
      "File \u001b[1;32mc:\\Users\\lordm\\Desktop\\Projects\\baybe\\.venv\\lib\\site-packages\\pandas\\io\\excel\\_base.py:495\u001b[0m, in \u001b[0;36mread_excel\u001b[1;34m(io, sheet_name, header, names, index_col, usecols, dtype, engine, converters, true_values, false_values, skiprows, nrows, na_values, keep_default_na, na_filter, verbose, parse_dates, date_parser, date_format, thousands, decimal, comment, skipfooter, storage_options, dtype_backend, engine_kwargs)\u001b[0m\n\u001b[0;32m    493\u001b[0m \u001b[38;5;28;01mif\u001b[39;00m \u001b[38;5;129;01mnot\u001b[39;00m \u001b[38;5;28misinstance\u001b[39m(io, ExcelFile):\n\u001b[0;32m    494\u001b[0m     should_close \u001b[38;5;241m=\u001b[39m \u001b[38;5;28;01mTrue\u001b[39;00m\n\u001b[1;32m--> 495\u001b[0m     io \u001b[38;5;241m=\u001b[39m \u001b[43mExcelFile\u001b[49m\u001b[43m(\u001b[49m\n\u001b[0;32m    496\u001b[0m \u001b[43m        \u001b[49m\u001b[43mio\u001b[49m\u001b[43m,\u001b[49m\n\u001b[0;32m    497\u001b[0m \u001b[43m        \u001b[49m\u001b[43mstorage_options\u001b[49m\u001b[38;5;241;43m=\u001b[39;49m\u001b[43mstorage_options\u001b[49m\u001b[43m,\u001b[49m\n\u001b[0;32m    498\u001b[0m \u001b[43m        \u001b[49m\u001b[43mengine\u001b[49m\u001b[38;5;241;43m=\u001b[39;49m\u001b[43mengine\u001b[49m\u001b[43m,\u001b[49m\n\u001b[0;32m    499\u001b[0m \u001b[43m        \u001b[49m\u001b[43mengine_kwargs\u001b[49m\u001b[38;5;241;43m=\u001b[39;49m\u001b[43mengine_kwargs\u001b[49m\u001b[43m,\u001b[49m\n\u001b[0;32m    500\u001b[0m \u001b[43m    \u001b[49m\u001b[43m)\u001b[49m\n\u001b[0;32m    501\u001b[0m \u001b[38;5;28;01melif\u001b[39;00m engine \u001b[38;5;129;01mand\u001b[39;00m engine \u001b[38;5;241m!=\u001b[39m io\u001b[38;5;241m.\u001b[39mengine:\n\u001b[0;32m    502\u001b[0m     \u001b[38;5;28;01mraise\u001b[39;00m \u001b[38;5;167;01mValueError\u001b[39;00m(\n\u001b[0;32m    503\u001b[0m         \u001b[38;5;124m\"\u001b[39m\u001b[38;5;124mEngine should not be specified when passing \u001b[39m\u001b[38;5;124m\"\u001b[39m\n\u001b[0;32m    504\u001b[0m         \u001b[38;5;124m\"\u001b[39m\u001b[38;5;124man ExcelFile - ExcelFile already has the engine set\u001b[39m\u001b[38;5;124m\"\u001b[39m\n\u001b[0;32m    505\u001b[0m     )\n",
      "File \u001b[1;32mc:\\Users\\lordm\\Desktop\\Projects\\baybe\\.venv\\lib\\site-packages\\pandas\\io\\excel\\_base.py:1550\u001b[0m, in \u001b[0;36mExcelFile.__init__\u001b[1;34m(self, path_or_buffer, engine, storage_options, engine_kwargs)\u001b[0m\n\u001b[0;32m   1548\u001b[0m     ext \u001b[38;5;241m=\u001b[39m \u001b[38;5;124m\"\u001b[39m\u001b[38;5;124mxls\u001b[39m\u001b[38;5;124m\"\u001b[39m\n\u001b[0;32m   1549\u001b[0m \u001b[38;5;28;01melse\u001b[39;00m:\n\u001b[1;32m-> 1550\u001b[0m     ext \u001b[38;5;241m=\u001b[39m \u001b[43minspect_excel_format\u001b[49m\u001b[43m(\u001b[49m\n\u001b[0;32m   1551\u001b[0m \u001b[43m        \u001b[49m\u001b[43mcontent_or_path\u001b[49m\u001b[38;5;241;43m=\u001b[39;49m\u001b[43mpath_or_buffer\u001b[49m\u001b[43m,\u001b[49m\u001b[43m \u001b[49m\u001b[43mstorage_options\u001b[49m\u001b[38;5;241;43m=\u001b[39;49m\u001b[43mstorage_options\u001b[49m\n\u001b[0;32m   1552\u001b[0m \u001b[43m    \u001b[49m\u001b[43m)\u001b[49m\n\u001b[0;32m   1553\u001b[0m     \u001b[38;5;28;01mif\u001b[39;00m ext \u001b[38;5;129;01mis\u001b[39;00m \u001b[38;5;28;01mNone\u001b[39;00m:\n\u001b[0;32m   1554\u001b[0m         \u001b[38;5;28;01mraise\u001b[39;00m \u001b[38;5;167;01mValueError\u001b[39;00m(\n\u001b[0;32m   1555\u001b[0m             \u001b[38;5;124m\"\u001b[39m\u001b[38;5;124mExcel file format cannot be determined, you must specify \u001b[39m\u001b[38;5;124m\"\u001b[39m\n\u001b[0;32m   1556\u001b[0m             \u001b[38;5;124m\"\u001b[39m\u001b[38;5;124man engine manually.\u001b[39m\u001b[38;5;124m\"\u001b[39m\n\u001b[0;32m   1557\u001b[0m         )\n",
      "File \u001b[1;32mc:\\Users\\lordm\\Desktop\\Projects\\baybe\\.venv\\lib\\site-packages\\pandas\\io\\excel\\_base.py:1402\u001b[0m, in \u001b[0;36minspect_excel_format\u001b[1;34m(content_or_path, storage_options)\u001b[0m\n\u001b[0;32m   1399\u001b[0m \u001b[38;5;28;01mif\u001b[39;00m \u001b[38;5;28misinstance\u001b[39m(content_or_path, \u001b[38;5;28mbytes\u001b[39m):\n\u001b[0;32m   1400\u001b[0m     content_or_path \u001b[38;5;241m=\u001b[39m BytesIO(content_or_path)\n\u001b[1;32m-> 1402\u001b[0m \u001b[38;5;28;01mwith\u001b[39;00m \u001b[43mget_handle\u001b[49m\u001b[43m(\u001b[49m\n\u001b[0;32m   1403\u001b[0m \u001b[43m    \u001b[49m\u001b[43mcontent_or_path\u001b[49m\u001b[43m,\u001b[49m\u001b[43m \u001b[49m\u001b[38;5;124;43m\"\u001b[39;49m\u001b[38;5;124;43mrb\u001b[39;49m\u001b[38;5;124;43m\"\u001b[39;49m\u001b[43m,\u001b[49m\u001b[43m \u001b[49m\u001b[43mstorage_options\u001b[49m\u001b[38;5;241;43m=\u001b[39;49m\u001b[43mstorage_options\u001b[49m\u001b[43m,\u001b[49m\u001b[43m \u001b[49m\u001b[43mis_text\u001b[49m\u001b[38;5;241;43m=\u001b[39;49m\u001b[38;5;28;43;01mFalse\u001b[39;49;00m\n\u001b[0;32m   1404\u001b[0m \u001b[43m\u001b[49m\u001b[43m)\u001b[49m \u001b[38;5;28;01mas\u001b[39;00m handle:\n\u001b[0;32m   1405\u001b[0m     stream \u001b[38;5;241m=\u001b[39m handle\u001b[38;5;241m.\u001b[39mhandle\n\u001b[0;32m   1406\u001b[0m     stream\u001b[38;5;241m.\u001b[39mseek(\u001b[38;5;241m0\u001b[39m)\n",
      "File \u001b[1;32mc:\\Users\\lordm\\Desktop\\Projects\\baybe\\.venv\\lib\\site-packages\\pandas\\io\\common.py:882\u001b[0m, in \u001b[0;36mget_handle\u001b[1;34m(path_or_buf, mode, encoding, compression, memory_map, is_text, errors, storage_options)\u001b[0m\n\u001b[0;32m    873\u001b[0m         handle \u001b[38;5;241m=\u001b[39m \u001b[38;5;28mopen\u001b[39m(\n\u001b[0;32m    874\u001b[0m             handle,\n\u001b[0;32m    875\u001b[0m             ioargs\u001b[38;5;241m.\u001b[39mmode,\n\u001b[1;32m   (...)\u001b[0m\n\u001b[0;32m    878\u001b[0m             newline\u001b[38;5;241m=\u001b[39m\u001b[38;5;124m\"\u001b[39m\u001b[38;5;124m\"\u001b[39m,\n\u001b[0;32m    879\u001b[0m         )\n\u001b[0;32m    880\u001b[0m     \u001b[38;5;28;01melse\u001b[39;00m:\n\u001b[0;32m    881\u001b[0m         \u001b[38;5;66;03m# Binary mode\u001b[39;00m\n\u001b[1;32m--> 882\u001b[0m         handle \u001b[38;5;241m=\u001b[39m \u001b[38;5;28;43mopen\u001b[39;49m\u001b[43m(\u001b[49m\u001b[43mhandle\u001b[49m\u001b[43m,\u001b[49m\u001b[43m \u001b[49m\u001b[43mioargs\u001b[49m\u001b[38;5;241;43m.\u001b[39;49m\u001b[43mmode\u001b[49m\u001b[43m)\u001b[49m\n\u001b[0;32m    883\u001b[0m     handles\u001b[38;5;241m.\u001b[39mappend(handle)\n\u001b[0;32m    885\u001b[0m \u001b[38;5;66;03m# Convert BytesIO or file objects passed with an encoding\u001b[39;00m\n",
      "\u001b[1;31mFileNotFoundError\u001b[0m: [Errno 2] No such file or directory: 'cordata.xlsx'"
     ]
    }
   ],
   "source": [
    "df_full = pd.read_excel('cordata.xlsx') # contains all data\n",
    "df_Al = pd.read_excel('cordata_Al.xlsx') # only Al alloy class"
   ]
  },
  {
   "cell_type": "code",
   "execution_count": 3,
   "metadata": {},
   "outputs": [
    {
     "name": "stdout",
     "output_type": "stream",
     "text": [
      "<class 'pandas.core.frame.DataFrame'>\n",
      "RangeIndex: 4973 entries, 0 to 4972\n",
      "Data columns (total 17 columns):\n",
      " #   Column                  Non-Null Count  Dtype  \n",
      "---  ------                  --------------  -----  \n",
      " 0   Index                   4973 non-null   int64  \n",
      " 1   Inhibitor               4973 non-null   object \n",
      " 2   Mol._weight             4973 non-null   float64\n",
      " 3   SMILES                  4973 non-null   object \n",
      " 4   Metal                   4973 non-null   object \n",
      " 5   Alloy                   4973 non-null   object \n",
      " 6   Time_h                  4973 non-null   float64\n",
      " 7   Temperature_K           4973 non-null   float64\n",
      " 8   pH                      4973 non-null   float64\n",
      " 9   Inhib_Concentrat_M      4973 non-null   float64\n",
      " 10  Salt_Concentrat_M       4973 non-null   float64\n",
      " 11  Synergistic_Inhib_type  265 non-null    object \n",
      " 12  Synergistic_Inhib_M     4925 non-null   float64\n",
      " 13  Methodology             4973 non-null   object \n",
      " 14  Reference               4973 non-null   object \n",
      " 15  Contributor             4973 non-null   object \n",
      " 16  Efficiency              4973 non-null   float64\n",
      "dtypes: float64(8), int64(1), object(8)\n",
      "memory usage: 660.6+ KB\n",
      "None\n"
     ]
    }
   ],
   "source": [
    "print(df_full.info())"
   ]
  },
  {
   "cell_type": "code",
   "execution_count": 4,
   "metadata": {},
   "outputs": [
    {
     "name": "stdout",
     "output_type": "stream",
     "text": [
      "<class 'pandas.core.frame.DataFrame'>\n",
      "RangeIndex: 2011 entries, 0 to 2010\n",
      "Data columns (total 19 columns):\n",
      " #   Column                          Non-Null Count  Dtype  \n",
      "---  ------                          --------------  -----  \n",
      " 0   Inhibitor                       2011 non-null   object \n",
      " 1   SMILES                          2011 non-null   object \n",
      " 2   Number                          2011 non-null   int64  \n",
      " 3   Metal                           2011 non-null   object \n",
      " 4   Alloy                           2011 non-null   object \n",
      " 5   Time_h                          2011 non-null   float64\n",
      " 6   Temperature_K                   2011 non-null   int64  \n",
      " 7   pH                              2011 non-null   float64\n",
      " 8   Inhib_Concentrat_M              2011 non-null   float64\n",
      " 9   Salt_Concentrat_M               2011 non-null   float64\n",
      " 10  Synergistic_inhib               2011 non-null   object \n",
      " 11  Synergistic_inhib_type          2011 non-null   object \n",
      " 12  Synergistic_inhib_Concentrat_M  2011 non-null   float64\n",
      " 13  Encapsulated                    2011 non-null   object \n",
      " 14  Efficiency                      2011 non-null   float64\n",
      " 15  Methodology                     2011 non-null   object \n",
      " 16  Reference                       2011 non-null   object \n",
      " 17  Link                            2011 non-null   object \n",
      " 18  Contributor                     2011 non-null   object \n",
      "dtypes: float64(6), int64(2), object(11)\n",
      "memory usage: 298.6+ KB\n",
      "None\n"
     ]
    }
   ],
   "source": [
    "print(df_Al.info())"
   ]
  },
  {
   "cell_type": "code",
   "execution_count": 5,
   "metadata": {},
   "outputs": [
    {
     "name": "stdout",
     "output_type": "stream",
     "text": [
      "Al: 2001\n",
      "Cu: 272\n",
      "Fe: 1230\n",
      "Mg: 1465\n",
      "Zn: 5\n"
     ]
    }
   ],
   "source": [
    "# number of entries for every alloy class in the full dataset\n",
    "for metal in df_full['Metal'].unique():\n",
    "    print(f\"{metal}: {len(df_full[df_full['Metal'] == metal])}\")"
   ]
  },
  {
   "cell_type": "markdown",
   "metadata": {},
   "source": [
    "### since Al has the biggest number it is indeed smart to start the alloy specific analysis with Al"
   ]
  },
  {
   "cell_type": "code",
   "execution_count": 6,
   "metadata": {},
   "outputs": [
    {
     "data": {
      "text/html": [
       "<div>\n",
       "<style scoped>\n",
       "    .dataframe tbody tr th:only-of-type {\n",
       "        vertical-align: middle;\n",
       "    }\n",
       "\n",
       "    .dataframe tbody tr th {\n",
       "        vertical-align: top;\n",
       "    }\n",
       "\n",
       "    .dataframe thead tr th {\n",
       "        text-align: left;\n",
       "    }\n",
       "\n",
       "    .dataframe thead tr:last-of-type th {\n",
       "        text-align: right;\n",
       "    }\n",
       "</style>\n",
       "<table border=\"1\" class=\"dataframe\">\n",
       "  <thead>\n",
       "    <tr>\n",
       "      <th></th>\n",
       "      <th colspan=\"2\" halign=\"left\">Efficiency</th>\n",
       "    </tr>\n",
       "    <tr>\n",
       "      <th></th>\n",
       "      <th>median</th>\n",
       "      <th>std</th>\n",
       "    </tr>\n",
       "    <tr>\n",
       "      <th>SMILES</th>\n",
       "      <th></th>\n",
       "      <th></th>\n",
       "    </tr>\n",
       "  </thead>\n",
       "  <tbody>\n",
       "    <tr>\n",
       "      <th>Brc1ncccn1</th>\n",
       "      <td>13.9</td>\n",
       "      <td>6.407808</td>\n",
       "    </tr>\n",
       "    <tr>\n",
       "      <th>C(=O)(C(=O)[O-])[O-]</th>\n",
       "      <td>33.0</td>\n",
       "      <td>66.649155</td>\n",
       "    </tr>\n",
       "    <tr>\n",
       "      <th>C(C(=O)O)(C)(CO)CO</th>\n",
       "      <td>63.5</td>\n",
       "      <td>14.066509</td>\n",
       "    </tr>\n",
       "    <tr>\n",
       "      <th>C(C(=O)O)N</th>\n",
       "      <td>-289.0</td>\n",
       "      <td>NaN</td>\n",
       "    </tr>\n",
       "    <tr>\n",
       "      <th>C(C(=O)[O-])C(CC(=O)[O-])(C(=O)[O-])O</th>\n",
       "      <td>63.6</td>\n",
       "      <td>171.524937</td>\n",
       "    </tr>\n",
       "    <tr>\n",
       "      <th>...</th>\n",
       "      <td>...</td>\n",
       "      <td>...</td>\n",
       "    </tr>\n",
       "    <tr>\n",
       "      <th>c1ncn[nH]1</th>\n",
       "      <td>-16.5</td>\n",
       "      <td>376.741314</td>\n",
       "    </tr>\n",
       "    <tr>\n",
       "      <th>c2ccc1[nH]cnc1c2</th>\n",
       "      <td>47.9</td>\n",
       "      <td>10.392243</td>\n",
       "    </tr>\n",
       "    <tr>\n",
       "      <th>c3ccc(Cn2cnc1ccccc12)cc3</th>\n",
       "      <td>97.5</td>\n",
       "      <td>0.223607</td>\n",
       "    </tr>\n",
       "    <tr>\n",
       "      <th>c4ccc(Cn3c(c1ccccc1)nc2ccccc23)cc4</th>\n",
       "      <td>97.8</td>\n",
       "      <td>0.316228</td>\n",
       "    </tr>\n",
       "    <tr>\n",
       "      <th>n1c2C(=O)NC(N)=Nc2ncc1CNc3ccc(cc3)C(=O)N[C@H](C(O)=O)CCC(O)=O</th>\n",
       "      <td>82.4</td>\n",
       "      <td>20.836281</td>\n",
       "    </tr>\n",
       "  </tbody>\n",
       "</table>\n",
       "<p>402 rows × 2 columns</p>\n",
       "</div>"
      ],
      "text/plain": [
       "                                                   Efficiency            \n",
       "                                                       median         std\n",
       "SMILES                                                                   \n",
       "Brc1ncccn1                                               13.9    6.407808\n",
       "C(=O)(C(=O)[O-])[O-]                                     33.0   66.649155\n",
       "C(C(=O)O)(C)(CO)CO                                       63.5   14.066509\n",
       "C(C(=O)O)N                                             -289.0         NaN\n",
       "C(C(=O)[O-])C(CC(=O)[O-])(C(=O)[O-])O                    63.6  171.524937\n",
       "...                                                       ...         ...\n",
       "c1ncn[nH]1                                              -16.5  376.741314\n",
       "c2ccc1[nH]cnc1c2                                         47.9   10.392243\n",
       "c3ccc(Cn2cnc1ccccc12)cc3                                 97.5    0.223607\n",
       "c4ccc(Cn3c(c1ccccc1)nc2ccccc23)cc4                       97.8    0.316228\n",
       "n1c2C(=O)NC(N)=Nc2ncc1CNc3ccc(cc3)C(=O)N[C@H](C...       82.4   20.836281\n",
       "\n",
       "[402 rows x 2 columns]"
      ]
     },
     "execution_count": 6,
     "metadata": {},
     "output_type": "execute_result"
    }
   ],
   "source": [
    "# unique compounds for full dataset\n",
    "df_full.groupby('SMILES').agg({'Efficiency':['median', 'std']})"
   ]
  },
  {
   "cell_type": "code",
   "execution_count": 7,
   "metadata": {},
   "outputs": [
    {
     "data": {
      "text/html": [
       "<div>\n",
       "<style scoped>\n",
       "    .dataframe tbody tr th:only-of-type {\n",
       "        vertical-align: middle;\n",
       "    }\n",
       "\n",
       "    .dataframe tbody tr th {\n",
       "        vertical-align: top;\n",
       "    }\n",
       "\n",
       "    .dataframe thead tr th {\n",
       "        text-align: left;\n",
       "    }\n",
       "\n",
       "    .dataframe thead tr:last-of-type th {\n",
       "        text-align: right;\n",
       "    }\n",
       "</style>\n",
       "<table border=\"1\" class=\"dataframe\">\n",
       "  <thead>\n",
       "    <tr>\n",
       "      <th></th>\n",
       "      <th colspan=\"2\" halign=\"left\">Efficiency</th>\n",
       "    </tr>\n",
       "    <tr>\n",
       "      <th></th>\n",
       "      <th>median</th>\n",
       "      <th>std</th>\n",
       "    </tr>\n",
       "    <tr>\n",
       "      <th>SMILES</th>\n",
       "      <th></th>\n",
       "      <th></th>\n",
       "    </tr>\n",
       "  </thead>\n",
       "  <tbody>\n",
       "    <tr>\n",
       "      <th>C(=O)(C(=O)[O-])[O-]</th>\n",
       "      <td>20.000</td>\n",
       "      <td>15.146012</td>\n",
       "    </tr>\n",
       "    <tr>\n",
       "      <th>C(C(=O)[O-])C(CC(=O)[O-])(C(=O)[O-])O</th>\n",
       "      <td>71.300</td>\n",
       "      <td>33.074888</td>\n",
       "    </tr>\n",
       "    <tr>\n",
       "      <th>C(C(C(C(C(C(=O)[O-])O)O)O)O)O.C(C(C(C(C(C(=O)[O-])O)O)O)O)O.[Fe+2]</th>\n",
       "      <td>65.000</td>\n",
       "      <td>22.500907</td>\n",
       "    </tr>\n",
       "    <tr>\n",
       "      <th>C(C(C(C(C(C(=O)[O-])O)O)O)O)O.C(C(C(C(C(C(=O)[O-])O)O)O)O)O.[Zn+2]</th>\n",
       "      <td>61.000</td>\n",
       "      <td>32.650756</td>\n",
       "    </tr>\n",
       "    <tr>\n",
       "      <th>C(C(CO)([N+](=O)[O-])Br)O</th>\n",
       "      <td>84.285</td>\n",
       "      <td>9.737557</td>\n",
       "    </tr>\n",
       "    <tr>\n",
       "      <th>...</th>\n",
       "      <td>...</td>\n",
       "      <td>...</td>\n",
       "    </tr>\n",
       "    <tr>\n",
       "      <th>[O-]S(=O)[O-].[Na+].[Na+]</th>\n",
       "      <td>85.200</td>\n",
       "      <td>15.171265</td>\n",
       "    </tr>\n",
       "    <tr>\n",
       "      <th>c1cc(ccc1c2[nH]c(nn2)S)[N+](=O)[O-]</th>\n",
       "      <td>25.000</td>\n",
       "      <td>5.773503</td>\n",
       "    </tr>\n",
       "    <tr>\n",
       "      <th>c1ccc(nc1)c1ccccn1</th>\n",
       "      <td>30.000</td>\n",
       "      <td>8.164966</td>\n",
       "    </tr>\n",
       "    <tr>\n",
       "      <th>c1ccc2c(c1)[nH]nn2</th>\n",
       "      <td>91.000</td>\n",
       "      <td>31.045126</td>\n",
       "    </tr>\n",
       "    <tr>\n",
       "      <th>c1ncn[nH]1</th>\n",
       "      <td>35.000</td>\n",
       "      <td>34.034296</td>\n",
       "    </tr>\n",
       "  </tbody>\n",
       "</table>\n",
       "<p>177 rows × 2 columns</p>\n",
       "</div>"
      ],
      "text/plain": [
       "                                                   Efficiency           \n",
       "                                                       median        std\n",
       "SMILES                                                                  \n",
       "C(=O)(C(=O)[O-])[O-]                                   20.000  15.146012\n",
       "C(C(=O)[O-])C(CC(=O)[O-])(C(=O)[O-])O                  71.300  33.074888\n",
       "C(C(C(C(C(C(=O)[O-])O)O)O)O)O.C(C(C(C(C(C(=O)[O...     65.000  22.500907\n",
       "C(C(C(C(C(C(=O)[O-])O)O)O)O)O.C(C(C(C(C(C(=O)[O...     61.000  32.650756\n",
       "C(C(CO)([N+](=O)[O-])Br)O                              84.285   9.737557\n",
       "...                                                       ...        ...\n",
       "[O-]S(=O)[O-].[Na+].[Na+]                              85.200  15.171265\n",
       "c1cc(ccc1c2[nH]c(nn2)S)[N+](=O)[O-]                    25.000   5.773503\n",
       "c1ccc(nc1)c1ccccn1                                     30.000   8.164966\n",
       "c1ccc2c(c1)[nH]nn2                                     91.000  31.045126\n",
       "c1ncn[nH]1                                             35.000  34.034296\n",
       "\n",
       "[177 rows x 2 columns]"
      ]
     },
     "execution_count": 7,
     "metadata": {},
     "output_type": "execute_result"
    }
   ],
   "source": [
    "# unique compounds for Al only dataset\n",
    "df_Al.groupby('SMILES').agg({'Efficiency':['median', 'std']})"
   ]
  },
  {
   "cell_type": "markdown",
   "metadata": {},
   "source": [
    "### 402 compounds for full, 177 for only Al. How about if we work for the largest alloy group?"
   ]
  },
  {
   "cell_type": "code",
   "execution_count": 14,
   "metadata": {},
   "outputs": [
    {
     "name": "stdout",
     "output_type": "stream",
     "text": [
      "Rank of unique values:\n",
      "Mild steel           690\n",
      "AA2024               590\n",
      "Al                   424\n",
      "Cu                   262\n",
      "CP-Mg-220ppm         239\n",
      "AA7075               227\n",
      "AA1060               203\n",
      "Cold rolled steel    182\n",
      "AZ31                 158\n",
      "AlSi                 155\n",
      "ZE41                 155\n",
      "WE43                 153\n",
      "AM50                 153\n",
      "AZ91                 145\n",
      "Fe                   143\n",
      "E21                  133\n",
      "HP-Mg-50ppm          119\n",
      "HP-Mg-51ppm          109\n",
      "Carbon steel          92\n",
      "AA5754                84\n",
      "Steel                 75\n",
      "CP-Mg-342ppm          60\n",
      "Al_rod                49\n",
      "Stainless steel       48\n",
      "AA6063                48\n",
      "AA6061                48\n",
      "AA5083                46\n",
      "AA5052                45\n",
      "Mg-0,8Ca              25\n",
      "AA1100                25\n",
      "AA3SR                 18\n",
      "AZ91E                 15\n",
      "AA63400               12\n",
      "AA2014                12\n",
      "Brass                 10\n",
      "AA5005                 8\n",
      "AA2017A                7\n",
      "Galvanized             5\n",
      "AZ91D                  1\n",
      "Name: Alloy, dtype: int64\n",
      "\n",
      "Unique alloys in full dataset: 39\n",
      "Unique alloys in only Al dataset: 17\n"
     ]
    }
   ],
   "source": [
    "def value_counts(df, value):\n",
    "    # Count unique values in the 'value' column\n",
    "    value_counts = df[value].value_counts()\n",
    "    ranked_values = value_counts.sort_values(ascending=False)\n",
    "    print(\"Rank of unique values:\")\n",
    "    print(ranked_values)\n",
    "\n",
    "value_counts(df_full, 'Alloy')\n",
    "print()\n",
    "print(f'Unique alloys in full dataset: {len(df_full[\"Alloy\"].unique())}')\n",
    "print(f'Unique alloys in only Al dataset: {len(df_Al[\"Alloy\"].unique())}')"
   ]
  },
  {
   "cell_type": "markdown",
   "metadata": {},
   "source": [
    "### I suggest we start from AA2024, as mild steel is too general of a category."
   ]
  },
  {
   "cell_type": "code",
   "execution_count": 21,
   "metadata": {},
   "outputs": [
    {
     "data": {
      "text/html": [
       "<div>\n",
       "<style scoped>\n",
       "    .dataframe tbody tr th:only-of-type {\n",
       "        vertical-align: middle;\n",
       "    }\n",
       "\n",
       "    .dataframe tbody tr th {\n",
       "        vertical-align: top;\n",
       "    }\n",
       "\n",
       "    .dataframe thead tr th {\n",
       "        text-align: left;\n",
       "    }\n",
       "\n",
       "    .dataframe thead tr:last-of-type th {\n",
       "        text-align: right;\n",
       "    }\n",
       "</style>\n",
       "<table border=\"1\" class=\"dataframe\">\n",
       "  <thead>\n",
       "    <tr>\n",
       "      <th></th>\n",
       "      <th colspan=\"2\" halign=\"left\">Efficiency</th>\n",
       "    </tr>\n",
       "    <tr>\n",
       "      <th></th>\n",
       "      <th>median</th>\n",
       "      <th>std</th>\n",
       "    </tr>\n",
       "    <tr>\n",
       "      <th>SMILES</th>\n",
       "      <th></th>\n",
       "      <th></th>\n",
       "    </tr>\n",
       "  </thead>\n",
       "  <tbody>\n",
       "    <tr>\n",
       "      <th>C(=O)(C(=O)[O-])[O-]</th>\n",
       "      <td>20.00</td>\n",
       "      <td>14.061383</td>\n",
       "    </tr>\n",
       "    <tr>\n",
       "      <th>C(C(=O)[O-])C(CC(=O)[O-])(C(=O)[O-])O</th>\n",
       "      <td>12.55</td>\n",
       "      <td>40.887682</td>\n",
       "    </tr>\n",
       "    <tr>\n",
       "      <th>C(C(C(C(C(C(=O)[O-])O)O)O)O)O.C(C(C(C(C(C(=O)[O-])O)O)O)O)O.[Fe+2]</th>\n",
       "      <td>65.00</td>\n",
       "      <td>22.500907</td>\n",
       "    </tr>\n",
       "    <tr>\n",
       "      <th>C(C(C(C(C(C(=O)[O-])O)O)O)O)O.C(C(C(C(C(C(=O)[O-])O)O)O)O)O.[Zn+2]</th>\n",
       "      <td>61.00</td>\n",
       "      <td>32.650756</td>\n",
       "    </tr>\n",
       "    <tr>\n",
       "      <th>C1=CC(=C(C=C1O)O)C=NNC(=S)N</th>\n",
       "      <td>86.60</td>\n",
       "      <td>26.204889</td>\n",
       "    </tr>\n",
       "    <tr>\n",
       "      <th>...</th>\n",
       "      <td>...</td>\n",
       "      <td>...</td>\n",
       "    </tr>\n",
       "    <tr>\n",
       "      <th>[O-]S(=O)[O-].[Na+].[Na+]</th>\n",
       "      <td>85.20</td>\n",
       "      <td>15.171265</td>\n",
       "    </tr>\n",
       "    <tr>\n",
       "      <th>c1cc(ccc1c2[nH]c(nn2)S)[N+](=O)[O-]</th>\n",
       "      <td>25.00</td>\n",
       "      <td>7.071068</td>\n",
       "    </tr>\n",
       "    <tr>\n",
       "      <th>c1ccc(nc1)c1ccccn1</th>\n",
       "      <td>35.00</td>\n",
       "      <td>7.071068</td>\n",
       "    </tr>\n",
       "    <tr>\n",
       "      <th>c1ccc2c(c1)[nH]nn2</th>\n",
       "      <td>97.80</td>\n",
       "      <td>20.848309</td>\n",
       "    </tr>\n",
       "    <tr>\n",
       "      <th>c1ncn[nH]1</th>\n",
       "      <td>60.00</td>\n",
       "      <td>42.426407</td>\n",
       "    </tr>\n",
       "  </tbody>\n",
       "</table>\n",
       "<p>123 rows × 2 columns</p>\n",
       "</div>"
      ],
      "text/plain": [
       "                                                   Efficiency           \n",
       "                                                       median        std\n",
       "SMILES                                                                  \n",
       "C(=O)(C(=O)[O-])[O-]                                    20.00  14.061383\n",
       "C(C(=O)[O-])C(CC(=O)[O-])(C(=O)[O-])O                   12.55  40.887682\n",
       "C(C(C(C(C(C(=O)[O-])O)O)O)O)O.C(C(C(C(C(C(=O)[O...      65.00  22.500907\n",
       "C(C(C(C(C(C(=O)[O-])O)O)O)O)O.C(C(C(C(C(C(=O)[O...      61.00  32.650756\n",
       "C1=CC(=C(C=C1O)O)C=NNC(=S)N                             86.60  26.204889\n",
       "...                                                       ...        ...\n",
       "[O-]S(=O)[O-].[Na+].[Na+]                               85.20  15.171265\n",
       "c1cc(ccc1c2[nH]c(nn2)S)[N+](=O)[O-]                     25.00   7.071068\n",
       "c1ccc(nc1)c1ccccn1                                      35.00   7.071068\n",
       "c1ccc2c(c1)[nH]nn2                                      97.80  20.848309\n",
       "c1ncn[nH]1                                              60.00  42.426407\n",
       "\n",
       "[123 rows x 2 columns]"
      ]
     },
     "execution_count": 21,
     "metadata": {},
     "output_type": "execute_result"
    }
   ],
   "source": [
    "# composition of AA2000 series is nearly identical, grab alloys from this series\n",
    "df_AA2024 = df_Al[df_Al['Alloy'].isin(['AA2024', 'AA2014', 'AA2017A'])]\n",
    "df_AA2024.groupby('SMILES').agg({'Efficiency':['median', 'std']})"
   ]
  },
  {
   "cell_type": "markdown",
   "metadata": {},
   "source": [
    "### 177 compounds for all Al, to 123 compounds to only AA2024."
   ]
  },
  {
   "cell_type": "code",
   "execution_count": 22,
   "metadata": {},
   "outputs": [
    {
     "name": "stdout",
     "output_type": "stream",
     "text": [
      "[2.40e+01 6.72e+02 0.00e+00 1.67e+00 3.30e-01 5.80e-01 1.00e+00 5.00e-01\n",
      " 1.50e+00 2.00e+00 2.50e+00 4.80e+01 9.60e+01 1.44e+02 1.92e+02 2.40e+02\n",
      " 2.88e+02 3.36e+02 3.84e+02 4.00e+00 6.00e+00 8.00e+00 2.50e-01 7.50e-01\n",
      " 7.20e+01 3.60e+02 4.80e+02 6.00e+02 1.68e+02 1.20e+02 1.00e+01 3.00e+00\n",
      " 4.32e+02 5.28e+02 5.76e+02 6.24e+02 3.50e+00 4.50e+00 5.00e+00 5.50e+00\n",
      " 7.20e+02 6.70e-01]\n",
      "42\n"
     ]
    }
   ],
   "source": [
    "# you can play around with the column names to see what unique values are in each column\n",
    "column_name = 'Time_h'\n",
    "print(df_Al[column_name].unique())\n",
    "print((len(df_Al[column_name].unique())))"
   ]
  },
  {
   "cell_type": "code",
   "execution_count": 30,
   "metadata": {},
   "outputs": [
    {
     "name": "stdout",
     "output_type": "stream",
     "text": [
      "Rank of unique values:\n",
      "24.00     656\n",
      "0.50      306\n",
      "2.00      268\n",
      "1.00      134\n",
      "672.00     54\n",
      "3.00       48\n",
      "144.00     48\n",
      "48.00      47\n",
      "72.00      41\n",
      "1.67       40\n",
      "168.00     28\n",
      "0.33       28\n",
      "240.00     25\n",
      "96.00      22\n",
      "336.00     20\n",
      "4.00       19\n",
      "288.00     19\n",
      "6.00       17\n",
      "480.00     16\n",
      "0.67       16\n",
      "0.00       14\n",
      "192.00     14\n",
      "384.00     14\n",
      "576.00     13\n",
      "432.00     13\n",
      "10.00       9\n",
      "360.00      8\n",
      "120.00      8\n",
      "528.00      8\n",
      "624.00      8\n",
      "600.00      7\n",
      "0.58        7\n",
      "2.50        6\n",
      "1.50        6\n",
      "720.00      5\n",
      "5.00        4\n",
      "8.00        4\n",
      "4.50        3\n",
      "3.50        3\n",
      "5.50        3\n",
      "0.25        1\n",
      "0.75        1\n",
      "Name: Time_h, dtype: int64\n"
     ]
    }
   ],
   "source": [
    "# previous counter fuinction to check distribution\n",
    "value_counts(df_Al, 'Time_h')"
   ]
  },
  {
   "cell_type": "code",
   "execution_count": 26,
   "metadata": {},
   "outputs": [
    {
     "data": {
      "image/png": "[encoded data removed]",
      "text/plain": [
       "<Figure size 640x480 with 1 Axes>"
      ]
     },
     "metadata": {},
     "output_type": "display_data"
    },
    {
     "data": {
      "image/png": "[encoded data removed]",
      "text/plain": [
       "<Figure size 640x480 with 1 Axes>"
      ]
     },
     "metadata": {},
     "output_type": "display_data"
    },
    {
     "data": {
      "image/png": "[encoded data removed]",
      "text/plain": [
       "<Figure size 640x480 with 1 Axes>"
      ]
     },
     "metadata": {},
     "output_type": "display_data"
    }
   ],
   "source": [
    "# you can play around with histograms below to check distribution\n",
    "# \n",
    "# # Plot histogram\n",
    "import matplotlib.pyplot as plt\n",
    "\n",
    "def plot_hist(df, value, name):\n",
    "    plt.hist(df[value], bins=50, color='skyblue', edgecolor='black')\n",
    "    plt.xlabel(f'{value}')\n",
    "    plt.ylabel('Frequency')\n",
    "    plt.title(f'Histogram of {name}')\n",
    "    plt.grid(True)\n",
    "    plt.show()\n",
    "\n",
    "hist_value = 'Time_h'\n",
    "plot_hist(df_full, value = hist_value, name = 'Full')\n",
    "plot_hist(df_Al, value = hist_value, name = 'Al')\n",
    "plot_hist(df_AA2024, value = hist_value, name = 'AA2024')"
   ]
  },
  {
   "cell_type": "code",
   "execution_count": 41,
   "metadata": {},
   "outputs": [
    {
     "name": "stdout",
     "output_type": "stream",
     "text": [
      "Number of entries in full dataset: 2011\n",
      "Number of entries in full dataset with Time_h >= 1: 1638\n",
      "Number of entries in full dataset with Time_h < 1: 373\n"
     ]
    }
   ],
   "source": [
    "# check filtering to see the effect of getting rid of some rows, to check whether its feasible to drop some columns\n",
    "\n",
    "def check_filter(dataset, column_name, filter):\n",
    "    print(f\"Number of entries in full dataset: {len(dataset)}\")\n",
    "    print(f\"Number of entries in full dataset with {column_name} >= {filter}: {len(dataset[dataset[column_name] >= filter])}\")\n",
    "    print(f\"Number of entries in full dataset with {column_name} < {filter}: {len(dataset[dataset[column_name] < filter])}\")\n",
    "\n",
    "\n",
    "check_filter(dataset = df_Al, column_name = 'Time_h',  filter = 1)\n",
    "\n"
   ]
  },
  {
   "cell_type": "code",
   "execution_count": 55,
   "metadata": {},
   "outputs": [
    {
     "data": {
      "text/plain": [
       "121"
      ]
     },
     "execution_count": 55,
     "metadata": {},
     "output_type": "execute_result"
    }
   ],
   "source": [
    "# quick check to check the amount of unique compounds\n",
    "filtered_df_Al = df_AA2024[df_AA2024['Time_h'] >= 1] # 123 to 121 compounds, maybe not much information loss for the small dataset...\n",
    "len(filtered_df_Al['SMILES'].unique())"
   ]
  },
  {
   "cell_type": "markdown",
   "metadata": {},
   "source": [
    "### Now to create a new dataframe cleaned of unnecessary details for analysis. \n",
    "Entries with synergy and encapsulation is removed, then unnecessary columns dropped."
   ]
  },
  {
   "cell_type": "code",
   "execution_count": 65,
   "metadata": {},
   "outputs": [
    {
     "data": {
      "text/plain": [
       "611"
      ]
     },
     "execution_count": 65,
     "metadata": {},
     "output_type": "execute_result"
    }
   ],
   "source": [
    "def filter_dataframe_AA2024(df):\n",
    "    no_synergy_df = df[df['Synergistic_inhib'] == 'No']\n",
    "    no_encapsulation_df = no_synergy_df[no_synergy_df['Encapsulated'] == 'No']\n",
    "    filtered_df = no_encapsulation_df.drop(columns=['Inhibitor', 'Number', 'Metal', 'Alloy', 'Temperature_K', 'Salt_Concentrat_M', \n",
    "                                                    'Synergistic_inhib','Synergistic_inhib_type', 'Synergistic_inhib_Concentrat_M',\n",
    "                                                    'Encapsulated', 'Methodology','Reference', 'Link', 'Contributor'])\n",
    "    return filtered_df\n",
    "\n",
    "filtered_df_AA2024 = filter_dataframe_AA2024(df_AA2024)\n",
    "len(filtered_df_AA2024['SMILES'])\n"
   ]
  },
  {
   "cell_type": "markdown",
   "metadata": {},
   "source": [
    "### 611 datapoints for actual Bayesian optimization work. "
   ]
  },
  {
   "cell_type": "code",
   "execution_count": 92,
   "metadata": {},
   "outputs": [],
   "source": [
    "# save\n",
    "filtered_df_AA2024.to_excel('filtered_AA2024.xlsx', index=False)"
   ]
  },
  {
   "cell_type": "code",
   "execution_count": 93,
   "metadata": {},
   "outputs": [
    {
     "data": {
      "text/plain": [
       "1966"
      ]
     },
     "execution_count": 93,
     "metadata": {},
     "output_type": "execute_result"
    }
   ],
   "source": [
    "def filter_dataframe_Al(df):\n",
    "    no_synergy_df = df[df['Synergistic_inhib'] == 'No']\n",
    "    no_encapsulation_df = no_synergy_df[no_synergy_df['Encapsulated'] == 'No']\n",
    "    filtered_df = no_encapsulation_df.drop(columns=['Inhibitor', 'Number', 'Metal', 'Temperature_K', 'Salt_Concentrat_M', \n",
    "                                                    'Synergistic_inhib','Synergistic_inhib_type', 'Synergistic_inhib_Concentrat_M',\n",
    "                                                    'Encapsulated', 'Methodology','Reference', 'Link', 'Contributor'])\n",
    "    return filtered_df\n",
    "\n",
    "filtered_df_Al = filter_dataframe_Al(df_Al)\n",
    "len(filtered_df_Al['SMILES'])"
   ]
  },
  {
   "cell_type": "markdown",
   "metadata": {},
   "source": [
    "### 1966 datapoints, almost 3 times. Assuming we can just ignore the effect of alloy type, or find a way to featurize it, would be fun to work with. Maybe composition based?"
   ]
  },
  {
   "cell_type": "code",
   "execution_count": 94,
   "metadata": {},
   "outputs": [],
   "source": [
    "# save\n",
    "filtered_df_Al.to_excel('filtered_Al.xlsx', index=False)"
   ]
  },
  {
   "cell_type": "code",
   "execution_count": 89,
   "metadata": {},
   "outputs": [
    {
     "data": {
      "text/plain": [
       "4708"
      ]
     },
     "execution_count": 89,
     "metadata": {},
     "output_type": "execute_result"
    }
   ],
   "source": [
    "def filter_dataframe_full(df):\n",
    "    no_synergy_df = df[df['Synergistic_Inhib_type'].isnull()]\n",
    "    filtered_df = no_synergy_df.drop(columns=['Inhibitor', 'Index', 'Mol._weight', 'Temperature_K', 'Salt_Concentrat_M',\n",
    "                                              'Synergistic_Inhib_type', 'Synergistic_Inhib_M','Methodology','Reference',\n",
    "                                              'Contributor'])\n",
    "    return filtered_df\n",
    "\n",
    "filtered_df_full = filter_dataframe_full(df_full)\n",
    "len(filtered_df_full['SMILES'])"
   ]
  },
  {
   "cell_type": "markdown",
   "metadata": {},
   "source": [
    "### 4708 datapoints, we more than double the previous. Again if we can jump to the featurization of alloy or substrate, super cool number to work with."
   ]
  },
  {
   "cell_type": "code",
   "execution_count": 91,
   "metadata": {},
   "outputs": [],
   "source": [
    "# save\n",
    "filtered_df_full.to_excel('filtered_full.xlsx', index=False)"
   ]
  }
 ],
 "metadata": {
  "kernelspec": {
   "display_name": "base",
   "language": "python",
   "name": "python3"
  },
  "language_info": {
   "codemirror_mode": {
    "name": "ipython",
    "version": 3
   },
   "file_extension": ".py",
   "mimetype": "text/x-python",
   "name": "python",
   "nbconvert_exporter": "python",
   "pygments_lexer": "ipython3",
   "version": "3.10.11"
  }
 },
 "nbformat": 4,
 "nbformat_minor": 2
}
