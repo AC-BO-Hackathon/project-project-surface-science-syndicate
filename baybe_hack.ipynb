{
 "cells": [
  {
   "cell_type": "markdown",
   "metadata": {},
   "source": [
    "## Imports"
   ]
  },
  {
   "cell_type": "code",
   "execution_count": null,
   "metadata": {},
   "outputs": [],
   "source": [
    "## test\n",
    "######\n",
    "####"
   ]
  },
  {
   "cell_type": "code",
   "execution_count": null,
   "metadata": {},
   "outputs": [],
   "source": [
    "import pandas as pd\n",
    "import numpy as np\n",
    "\n",
    "df_AA2024 = pd.read_excel('data/filtered_AA2024.xlsx')\n",
    "print(df_AA2024.describe())"
   ]
  },
  {
   "cell_type": "code",
   "execution_count": null,
   "metadata": {},
   "outputs": [],
   "source": [
    "print(df_AA2024.head())"
   ]
  },
  {
   "cell_type": "code",
   "execution_count": null,
   "metadata": {},
   "outputs": [],
   "source": [
    "from baybe.targets import NumericalTarget\n",
    "from baybe.objective import Objective\n",
    "\n",
    "target = NumericalTarget(\n",
    "    name=\"Efficiency\",\n",
    "    mode=\"MAX\",\n",
    ")\n",
    "objective = Objective(mode=\"SINGLE\", targets=[target])"
   ]
  },
  {
   "cell_type": "code",
   "execution_count": null,
   "metadata": {},
   "outputs": [],
   "source": [
    "from baybe.parameters import (\n",
    "    NumericalContinuousParameter,\n",
    ")\n",
    "\n",
    "parameters = [\n",
    "    NumericalContinuousParameter(\n",
    "        name=\"Time[h]\",\n",
    "        bounds=(0.500000, 672),\n",
    "    ),\n",
    "    NumericalContinuousParameter(\n",
    "        name=\"pH\",\n",
    "        bounds=(1, 14),\n",
    "    ),\n",
    "]"
   ]
  },
  {
   "cell_type": "code",
   "execution_count": null,
   "metadata": {},
   "outputs": [],
   "source": [
    "from baybe.searchspace import SearchSpace\n",
    "\n",
    "searchspace = SearchSpace.from_product(parameters)"
   ]
  },
  {
   "cell_type": "code",
   "execution_count": null,
   "metadata": {},
   "outputs": [],
   "source": [
    "from baybe import Campaign\n",
    "\n",
    "campaign = Campaign(searchspace, objective)"
   ]
  },
  {
   "cell_type": "code",
   "execution_count": null,
   "metadata": {},
   "outputs": [],
   "source": [
    "df = campaign.recommend(batch_size=3)\n",
    "print(df)"
   ]
  },
  {
   "cell_type": "code",
   "execution_count": null,
   "metadata": {},
   "outputs": [],
   "source": [
    "############################\n",
    "############################\n",
    "############################"
   ]
  },
  {
   "cell_type": "code",
   "execution_count": 1,
   "metadata": {},
   "outputs": [
    {
     "name": "stderr",
     "output_type": "stream",
     "text": [
      "/home/vscode/.local/lib/python3.10/site-packages/baybe/telemetry.py:222: UserWarning: WARNING: BayBE Telemetry endpoint https://public.telemetry.baybe.p.uptimize.merckgroup.com:4317 cannot be reached. Disabling telemetry. The exception encountered was: ConnectionError, HTTPConnectionPool(host='verkehrsnachrichten.merck.de', port=80): Max retries exceeded with url: / (Caused by NameResolutionError(\"<urllib3.connection.HTTPConnection object at 0x7fa0c7791690>: Failed to resolve 'verkehrsnachrichten.merck.de' ([Errno -2] Name or service not known)\"))\n",
      "  warnings.warn(\n"
     ]
    }
   ],
   "source": [
    "import numpy as np\n",
    "import pandas as pd\n",
    "\n",
    "from baybe.targets import NumericalTarget\n",
    "from baybe.objective import Objective\n",
    "\n",
    "from baybe.parameters import NumericalDiscreteParameter, NumericalContinuousParameter\n",
    "from baybe.searchspace import SearchSpace\n",
    "\n",
    "from baybe.recommenders import RandomRecommender, SequentialGreedyRecommender\n",
    "from baybe.surrogates import GaussianProcessSurrogate\n",
    "\n",
    "from baybe.strategies import TwoPhaseStrategy\n",
    "from baybe import Campaign"
   ]
  },
  {
   "cell_type": "markdown",
   "metadata": {},
   "source": [
    "### Setting the objectives"
   ]
  },
  {
   "cell_type": "markdown",
   "metadata": {},
   "source": [
    "The DESIRABILITY mode enables the combination multiple targets via scalarization into a single value.\n",
    "\n",
    "See MATCH mode, instead of MAX/MIN + For more details on transformation functions: \n",
    "https://emdgroup.github.io/baybe/userguide/targets.html"
   ]
  },
  {
   "cell_type": "markdown",
   "metadata": {},
   "source": [
    "### Set targets/objectives, efficiency?"
   ]
  },
  {
   "cell_type": "code",
   "execution_count": 2,
   "metadata": {},
   "outputs": [
    {
     "data": {
      "text/plain": [
       "'\\noverpotential = NumericalTarget(\\n    name=\"overpotential\", \\n    mode=\"MAX\", \\n    bounds=(-400, 0),\\n    transformation=\"LINEAR\"  # optional, will be applied if bounds are not None, LINEAR only one available for MAX/MIN\\n    ) \\n\\noverpotential_slope = NumericalTarget(\\n    name=\"overpotential_slope\", \\n    mode=\"MAX\", \\n    bounds=(-0.05, 0.05),\\n    transformation=\"LINEAR\"  # optional, will be applied if bounds are not None, LINEAR only one available for MAX/MIN\\n    )\\n\\nobjective = Objective(\\n    mode=\"DESIRABILITY\",\\n    targets=[overpotential, overpotential_slope],\\n    weights=[1.0, 1.0],  # optional, by default all weights are equal\\n    combine_func=\"GEOM_MEAN\",  # optional, geometric mean is the default\\n)\\n'"
      ]
     },
     "execution_count": 2,
     "metadata": {},
     "output_type": "execute_result"
    }
   ],
   "source": [
    "\"\"\"\n",
    "overpotential = NumericalTarget(\n",
    "    name=\"overpotential\", \n",
    "    mode=\"MAX\", \n",
    "    bounds=(-400, 0),\n",
    "    transformation=\"LINEAR\"  # optional, will be applied if bounds are not None, LINEAR only one available for MAX/MIN\n",
    "    ) \n",
    "\n",
    "overpotential_slope = NumericalTarget(\n",
    "    name=\"overpotential_slope\", \n",
    "    mode=\"MAX\", \n",
    "    bounds=(-0.05, 0.05),\n",
    "    transformation=\"LINEAR\"  # optional, will be applied if bounds are not None, LINEAR only one available for MAX/MIN\n",
    "    )\n",
    "\n",
    "objective = Objective(\n",
    "    mode=\"DESIRABILITY\",\n",
    "    targets=[overpotential, overpotential_slope],\n",
    "    weights=[1.0, 1.0],  # optional, by default all weights are equal\n",
    "    combine_func=\"GEOM_MEAN\",  # optional, geometric mean is the default\n",
    ")\n",
    "\"\"\""
   ]
  },
  {
   "cell_type": "markdown",
   "metadata": {},
   "source": [
    "### Search Space"
   ]
  },
  {
   "cell_type": "code",
   "execution_count": 3,
   "metadata": {},
   "outputs": [],
   "source": [
    "parameters = [\n",
    "NumericalDiscreteParameter(\n",
    "    name=\"Time (h)\",\n",
    "    values=np.arange(6, 25, 1) # Assuming time below 6 hours is discarded\n",
    "),\n",
    "NumericalDiscreteParameter(\n",
    "        name=\"pH\",\n",
    "        values=np.arange(-1, 15.1, 0.1)\n",
    "    ),  \n",
    "NumericalContinuousParameter( # Set this as continuous, the values seem quite small?\n",
    "        name=\"Inhibitor Concentration (M)\",\n",
    "        bounds=(0, 0.02)\n",
    "    ),\n",
    "NumericalDiscreteParameter(\n",
    "        name=\"Salt Concentration (M)\",\n",
    "        values=np.arange(0, 2.01, 0.01),\n",
    "    )\n",
    "]"
   ]
  },
  {
   "cell_type": "markdown",
   "metadata": {},
   "source": [
    "**Substance parameter**\n",
    "\n",
    "Instead of values, this parameter accepts data in form of a dictionary. The items correspond to pairs of labels and SMILES. SMILES are string-based representations of molecular structures. Based on these, BayBE can assign each label a set of molecular descriptors as encoding.\n",
    "\n",
    "For instance, a parameter corresponding to a choice of solvents can be initialized with:"
   ]
  },
  {
   "cell_type": "code",
   "execution_count": 4,
   "metadata": {},
   "outputs": [
    {
     "data": {
      "text/plain": [
       "SubstanceParameter(name='Solvent', data={'Water': 'O', '1-Octanol': 'CCCCCCCCO', 'Toluene': 'CC1=CC=CC=C1'}, decorrelate=0.7, encoding=<SubstanceEncoding.MORDRED: 'MORDRED'>)"
      ]
     },
     "execution_count": 4,
     "metadata": {},
     "output_type": "execute_result"
    }
   ],
   "source": [
    "from baybe.parameters import SubstanceParameter\n",
    "\n",
    "SubstanceParameter(\n",
    "    name=\"Solvent\",\n",
    "    data={\n",
    "        \"Water\": \"O\",\n",
    "        \"1-Octanol\": \"CCCCCCCCO\",\n",
    "        \"Toluene\": \"CC1=CC=CC=C1\",\n",
    "    },\n",
    "    encoding=\"MORDRED\",  # optional\n",
    "    decorrelate=0.7,  # optional\n",
    ")"
   ]
  },
  {
   "cell_type": "markdown",
   "metadata": {},
   "source": [
    "\n",
    "The encoding option defines what kind of descriptors are calculated:\n",
    "\n",
    "MORDRED: 2D descriptors from the Mordred package. Since the original package is now unmaintained, baybe requires the community replacement mordredcommunity\n",
    "\n",
    "RDKIT: 2D descriptors from the RDKit package\n",
    "\n",
    "MORGAN_FP: Morgan fingerprints calculated with RDKit (1024 bits, radius 4)\n",
    "\n",
    "These calculations will typically result in 500 to 1500 numbers per molecule. **To avoid detrimental effects on the surrogate model fit, we reduce the number of descriptors via decorrelation before using them.** For instance, the decorrelate option in the example above specifies that only descriptors with a correlation lower than 0.7 to any other descriptor will be kept. This usually reduces the number of descriptors to 10-50, depending on the specific items in data.\n",
    "\n",
    "**WARNING:**\n",
    "The descriptors calculated for a SubstanceParameter were developed to describe small molecules and are not suitable for other substances. If you deal with large molecules like polymers or arbitrary substance mixtures, we recommend to provide your own descriptors via the CustomParameter."
   ]
  },
  {
   "cell_type": "markdown",
   "metadata": {},
   "source": [
    "The encoding concept introduced above is generalized by the CustomParameter. Here, the user is expected to provide their own descriptors for the encoding.\n",
    "\n",
    "Take, for instance, a parameter that corresponds to the choice of a polymer. Polymers are not well represented by the small molecule descriptors utilized in the SubstanceParameter. Still, one could provide experimental measurements or common metrics used to classify polymers:"
   ]
  },
  {
   "cell_type": "code",
   "execution_count": 5,
   "metadata": {},
   "outputs": [
    {
     "data": {
      "text/plain": [
       "CustomDiscreteParameter(name='Polymer', data=           Glass_Transition_TempC  Weight_kDalton\n",
       "Polymer A                      20             120\n",
       "Polymer B                     -71              32\n",
       "Polymer C                     -39             241, decorrelate=True, encoding=<CustomEncoding.CUSTOM: 'CUSTOM'>)"
      ]
     },
     "execution_count": 5,
     "metadata": {},
     "output_type": "execute_result"
    }
   ],
   "source": [
    "import pandas as pd\n",
    "from baybe.parameters import CustomDiscreteParameter\n",
    "\n",
    "# Create or import new dataframe containing custom descriptors\n",
    "\n",
    "descriptors = pd.DataFrame(\n",
    "    {\n",
    "        \"Glass_Transition_TempC\": [20, -71, -39],\n",
    "        \"Weight_kDalton\": [120, 32, 241],\n",
    "    },\n",
    "    index=[\"Polymer A\", \"Polymer B\", \"Polymer C\"],  # put labels in the index\n",
    ")\n",
    "\n",
    "CustomDiscreteParameter(\n",
    "    name=\"Polymer\",\n",
    "    data=descriptors,\n",
    "    decorrelate=True,  # optional, uses default correlation threshold = 0.7?\n",
    ")\n",
    "\n",
    "# Add this to the parameters list afterwards"
   ]
  },
  {
   "cell_type": "code",
   "execution_count": 6,
   "metadata": {},
   "outputs": [],
   "source": [
    "searchspace = SearchSpace.from_product(parameters)"
   ]
  },
  {
   "cell_type": "markdown",
   "metadata": {},
   "source": [
    "### Recommenders"
   ]
  },
  {
   "cell_type": "markdown",
   "metadata": {},
   "source": [
    "The **SequentialGreedyRecommender** is a powerful recommender that leverages BoTorch optimization functions to perform sequential Greedy optimization. It can be applied for discrete, continuous and hybrid sarch spaces. It is an implementation of the BoTorch optimization functions for discrete, continuous and mixed spaces. **It is important to note that this recommender performs a brute-force search when applied in hybrid search spaces, as it optimizes the continuous part of the space while exhaustively searching choices in the discrete subspace.** You can customize this behavior to only sample a certain percentage of the discrete subspace via the sample_percentage attribute and to choose different sampling strategies via the hybrid_sampler attribute. \n",
    "\n",
    "e.g.\n",
    "strategy = TwoPhaseStrategy(recommender=SequentialGreedyRecommender(hybrid_sampler=\"Farthest\", sampling_percentage=0.3))"
   ]
  },
  {
   "cell_type": "markdown",
   "metadata": {},
   "source": [
    "For implementing fully customized surrogate models e.g. from sklearn or PyTorch, see:\n",
    "https://emdgroup.github.io/baybe/examples/Custom_Surrogates/Custom_Surrogates.html\n"
   ]
  },
  {
   "cell_type": "code",
   "execution_count": 7,
   "metadata": {},
   "outputs": [],
   "source": [
    "available_surr_models = [\n",
    "    \"GaussianProcessSurrogate\", \n",
    "    \"BayesianLinearSurrogate\",\n",
    "    \"MeanPredictionSurrogate\",\n",
    "    \"NGBoostSurrogate\",\n",
    "    \"RandomForestSurrogate\"\n",
    "]\n",
    "\n",
    "available_acq_functions = [\n",
    "    \"qPI\",  # q-Probability Of Improvement\n",
    "    \"qEI\",  # q-Expected Improvement\n",
    "    \"qUCB\", # q-upper confidence bound with beta of 1.0\n",
    "]\n",
    "\n",
    "# Defaults anyway\n",
    "SURROGATE_MODEL = GaussianProcessSurrogate()\n",
    "ACQ_FUNCTION = \"qEI\" # q-Expected Improvement, only q-fuctions are available for batch_size > 1\n",
    "\n",
    "seq_greedy_recommender = SequentialGreedyRecommender(\n",
    "        surrogate_model=SURROGATE_MODEL,\n",
    "        acquisition_function_cls=ACQ_FUNCTION,\n",
    "        hybrid_sampler=\"Farthest\", # find more details in the documentation\n",
    "        sampling_percentage=0.3, # should be relatively low\n",
    "        allow_repeated_recommendations=False,\n",
    "        allow_recommending_already_measured=False,\n",
    "    )\n",
    "\n",
    "hybrid_recommender = SequentialGreedyRecommender(\n",
    "    allow_repeated_recommendations=False,\n",
    "    allow_recommending_already_measured=False\n",
    ")"
   ]
  },
  {
   "cell_type": "markdown",
   "metadata": {},
   "source": [
    "### Campaign Strategy"
   ]
  },
  {
   "cell_type": "code",
   "execution_count": 10,
   "metadata": {},
   "outputs": [
    {
     "name": "stderr",
     "output_type": "stream",
     "text": [
      "/home/vscode/.local/lib/python3.10/site-packages/baybe/strategies/deprecation.py:26: DeprecationWarning: 'TwoPhaseStrategy' is deprecated and will be removed in a future version. Please use 'recommenders.TwoPhaseMetaRecommender' class instead.\n",
      "  warnings.warn(\n"
     ]
    },
    {
     "ename": "NameError",
     "evalue": "name 'objective' is not defined",
     "output_type": "error",
     "traceback": [
      "\u001b[0;31m---------------------------------------------------------------------------\u001b[0m",
      "\u001b[0;31mNameError\u001b[0m                                 Traceback (most recent call last)",
      "Cell \u001b[0;32mIn[10], line 10\u001b[0m\n\u001b[1;32m      1\u001b[0m strategy \u001b[38;5;241m=\u001b[39m TwoPhaseStrategy(\n\u001b[1;32m      2\u001b[0m     initial_recommender \u001b[38;5;241m=\u001b[39m RandomRecommender(),  \u001b[38;5;66;03m# Initial recommender, if no training data is available\u001b[39;00m\n\u001b[1;32m      3\u001b[0m     \u001b[38;5;66;03m# Other initial recommenders don't seem to work for my hybrid search space/set of parameters\u001b[39;00m\n\u001b[0;32m   (...)\u001b[0m\n\u001b[1;32m      7\u001b[0m     switch_after\u001b[38;5;241m=\u001b[39m\u001b[38;5;241m1\u001b[39m  \u001b[38;5;66;03m# Switch to the model-based recommender after 1 batch or iteration (so the initial training data)\u001b[39;00m\n\u001b[1;32m      8\u001b[0m )\n\u001b[0;32m---> 10\u001b[0m campaign \u001b[38;5;241m=\u001b[39m Campaign(searchspace, \u001b[43mobjective\u001b[49m, strategy)\n",
      "\u001b[0;31mNameError\u001b[0m: name 'objective' is not defined"
     ]
    }
   ],
   "source": [
    "strategy = TwoPhaseStrategy(\n",
    "    initial_recommender = RandomRecommender(),  # Initial recommender, if no training data is available\n",
    "    # Other initial recommenders don't seem to work for my hybrid search space/set of parameters\n",
    "    # Doesn't matter since I already have training data\n",
    "    recommender = seq_greedy_recommender,  # Bayesian model-based optimization\n",
    "    # recommender = hybrid_recommender,\n",
    "    switch_after=1  # Switch to the model-based recommender after 1 batch or iteration (so the initial training data)\n",
    ")\n",
    "\n",
    "campaign = Campaign(searchspace, objective, strategy)"
   ]
  },
  {
   "cell_type": "markdown",
   "metadata": {},
   "source": [
    "### Import and read modified Excel file as dataframe? - Now containing only specific columns as training data - as in possibly this example: \n",
    "\n",
    "https://emdgroup.github.io/baybe/examples/Backtesting/full_initial_data.html\n",
    "\n",
    "\n",
    "https://emdgroup.github.io/baybe/examples/Backtesting/full_lookup.html"
   ]
  },
  {
   "cell_type": "markdown",
   "metadata": {},
   "source": [
    "### For transfer learning see: \n",
    "\n",
    "https://emdgroup.github.io/baybe/userguide/transfer_learning\n",
    "\n",
    "&\n",
    "\n",
    "https://emdgroup.github.io/baybe/examples/Transfer_Learning/basic_transfer_learning.html"
   ]
  }
 ],
 "metadata": {
  "kernelspec": {
   "display_name": ".venv",
   "language": "python",
   "name": "python3"
  },
  "language_info": {
   "codemirror_mode": {
    "name": "ipython",
    "version": 3
   },
   "file_extension": ".py",
   "mimetype": "text/x-python",
   "name": "python",
   "nbconvert_exporter": "python",
   "pygments_lexer": "ipython3",
   "version": "3.10.12"
  }
 },
 "nbformat": 4,
 "nbformat_minor": 2
}
