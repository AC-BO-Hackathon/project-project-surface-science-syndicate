{
 "cells": [
  {
   "cell_type": "markdown",
   "metadata": {},
   "source": [
    "# Introduction"
   ]
  },
  {
   "cell_type": "markdown",
   "metadata": {},
   "source": [
    "This project will focus on exploring the capabilities of Bayesian optimization, specifically employing BayBE, in the discovery of novel corrosion inhibitors for materials design. Initially, we will work with a randomly chosen subset from a comprehensive database of electrochemical responses of small organic molecules. Our goal is to assess how Bayesian optimization can speed up the screening process across the design space to identify promising compounds. We will compare different strategies for incorporating alloy information, while optimizing the experimental parameters with respect to the inhibitive performance of the screened compounds."
   ]
  },
  {
   "cell_type": "markdown",
   "metadata": {},
   "source": [
    "# Initialization"
   ]
  },
  {
   "cell_type": "markdown",
   "metadata": {},
   "source": [
    "Loading libraries and data files:"
   ]
  },
  {
   "cell_type": "code",
<<<<<<< HEAD
   "execution_count": 1,
=======
   "execution_count": 3,
>>>>>>> 81fe1362f5173acc5b0cfa176728c3c81228678c
   "metadata": {},
   "outputs": [
    {
     "name": "stderr",
     "output_type": "stream",
     "text": [
<<<<<<< HEAD
      "/home/vscode/.local/lib/python3.10/site-packages/baybe/telemetry.py:222: UserWarning: WARNING: BayBE Telemetry endpoint https://public.telemetry.baybe.p.uptimize.merckgroup.com:4317 cannot be reached. Disabling telemetry. The exception encountered was: ConnectionError, HTTPConnectionPool(host='verkehrsnachrichten.merck.de', port=80): Max retries exceeded with url: / (Caused by NameResolutionError(\"<urllib3.connection.HTTPConnection object at 0x7fc39ecd08e0>: Failed to resolve 'verkehrsnachrichten.merck.de' ([Errno -2] Name or service not known)\"))\n",
=======
      "/home/vscode/.local/lib/python3.10/site-packages/baybe/telemetry.py:222: UserWarning: WARNING: BayBE Telemetry endpoint https://public.telemetry.baybe.p.uptimize.merckgroup.com:4317 cannot be reached. Disabling telemetry. The exception encountered was: ConnectionError, HTTPConnectionPool(host='verkehrsnachrichten.merck.de', port=80): Max retries exceeded with url: / (Caused by NameResolutionError(\"<urllib3.connection.HTTPConnection object at 0x7fbcade2c040>: Failed to resolve 'verkehrsnachrichten.merck.de' ([Errno -2] Name or service not known)\"))\n",
>>>>>>> 81fe1362f5173acc5b0cfa176728c3c81228678c
      "  warnings.warn(\n",
      "/home/vscode/.local/lib/python3.10/site-packages/tqdm/auto.py:21: TqdmWarning: IProgress not found. Please update jupyter and ipywidgets. See https://ipywidgets.readthedocs.io/en/stable/user_install.html\n",
      "  from .autonotebook import tqdm as notebook_tqdm\n"
     ]
    }
   ],
   "source": [
    "import pandas as pd\n",
    "import numpy as np\n",
    "from baybe import Campaign\n",
    "\n",
    "df_AA2024 = pd.read_excel('../data/filtered_AA2024.xlsx')\n",
    "df_AA1000 = pd.read_excel('../data/filtered_AA1000.xlsx')\n",
    "df_Al = pd.read_excel('../data/filtered_Al.xlsx')"
   ]
  },
  {
   "cell_type": "code",
<<<<<<< HEAD
   "execution_count": 2,
=======
   "execution_count": 4,
>>>>>>> 81fe1362f5173acc5b0cfa176728c3c81228678c
   "metadata": {},
   "outputs": [],
   "source": [
    "import numpy as np\n",
    "\n",
    "def random_subsample(df, num_samples):\n",
    "    np.random.seed(42)\n",
    "    indices = np.random.choice(df.index, num_samples, replace=False)\n",
    "    subsampled_df = df.loc[indices]\n",
    "    return subsampled_df "
   ]
  },
  {
   "cell_type": "code",
<<<<<<< HEAD
   "execution_count": 3,
=======
   "execution_count": 5,
>>>>>>> 81fe1362f5173acc5b0cfa176728c3c81228678c
   "metadata": {},
   "outputs": [
    {
     "data": {
      "text/html": [
       "<div>\n",
       "<style scoped>\n",
       "    .dataframe tbody tr th:only-of-type {\n",
       "        vertical-align: middle;\n",
       "    }\n",
       "\n",
       "    .dataframe tbody tr th {\n",
       "        vertical-align: top;\n",
       "    }\n",
       "\n",
       "    .dataframe thead th {\n",
       "        text-align: right;\n",
       "    }\n",
       "</style>\n",
       "<table border=\"1\" class=\"dataframe\">\n",
       "  <thead>\n",
       "    <tr style=\"text-align: right;\">\n",
       "      <th></th>\n",
       "      <th>SMILES</th>\n",
       "      <th>Time_h</th>\n",
       "      <th>pH</th>\n",
       "      <th>Inhib_Concentrat_M</th>\n",
       "      <th>Salt_Concentrat_M</th>\n",
       "      <th>Efficiency</th>\n",
       "    </tr>\n",
       "  </thead>\n",
       "  <tbody>\n",
       "    <tr>\n",
       "      <th>0</th>\n",
       "      <td>COCCOC(=O)OCSc1nc2c(s1)cccc2</td>\n",
       "      <td>24.0</td>\n",
       "      <td>4.0</td>\n",
       "      <td>0.001</td>\n",
       "      <td>0.1</td>\n",
       "      <td>0.0</td>\n",
       "    </tr>\n",
       "    <tr>\n",
       "      <th>1</th>\n",
       "      <td>COCCOC(=O)OCSc1nc2c(s1)cccc2</td>\n",
       "      <td>24.0</td>\n",
       "      <td>10.0</td>\n",
       "      <td>0.001</td>\n",
       "      <td>0.1</td>\n",
       "      <td>0.0</td>\n",
       "    </tr>\n",
       "    <tr>\n",
       "      <th>2</th>\n",
       "      <td>Cc1ccc(c(c1)n1nc2c(n1)cccc2)O</td>\n",
       "      <td>24.0</td>\n",
       "      <td>4.0</td>\n",
       "      <td>0.001</td>\n",
       "      <td>0.1</td>\n",
       "      <td>30.0</td>\n",
       "    </tr>\n",
       "    <tr>\n",
       "      <th>3</th>\n",
       "      <td>Cc1ccc(c(c1)n1nc2c(n1)cccc2)O</td>\n",
       "      <td>24.0</td>\n",
       "      <td>10.0</td>\n",
       "      <td>0.001</td>\n",
       "      <td>0.1</td>\n",
       "      <td>30.0</td>\n",
       "    </tr>\n",
       "    <tr>\n",
       "      <th>4</th>\n",
       "      <td>Clc1ccc(cc1)CC[C@](C(C)(C)C)(Cn1cncn1)O</td>\n",
       "      <td>24.0</td>\n",
       "      <td>4.0</td>\n",
       "      <td>0.001</td>\n",
       "      <td>0.1</td>\n",
       "      <td>30.0</td>\n",
       "    </tr>\n",
       "  </tbody>\n",
       "</table>\n",
       "</div>"
      ],
      "text/plain": [
       "                                    SMILES  Time_h    pH  Inhib_Concentrat_M  \\\n",
       "0             COCCOC(=O)OCSc1nc2c(s1)cccc2    24.0   4.0               0.001   \n",
       "1             COCCOC(=O)OCSc1nc2c(s1)cccc2    24.0  10.0               0.001   \n",
       "2            Cc1ccc(c(c1)n1nc2c(n1)cccc2)O    24.0   4.0               0.001   \n",
       "3            Cc1ccc(c(c1)n1nc2c(n1)cccc2)O    24.0  10.0               0.001   \n",
       "4  Clc1ccc(cc1)CC[C@](C(C)(C)C)(Cn1cncn1)O    24.0   4.0               0.001   \n",
       "\n",
       "   Salt_Concentrat_M  Efficiency  \n",
       "0                0.1         0.0  \n",
       "1                0.1         0.0  \n",
       "2                0.1        30.0  \n",
       "3                0.1        30.0  \n",
       "4                0.1        30.0  "
      ]
     },
<<<<<<< HEAD
     "execution_count": 3,
=======
     "execution_count": 5,
>>>>>>> 81fe1362f5173acc5b0cfa176728c3c81228678c
     "metadata": {},
     "output_type": "execute_result"
    }
   ],
   "source": [
    "df_AA2024.head()"
   ]
  },
  {
   "cell_type": "code",
<<<<<<< HEAD
   "execution_count": 4,
=======
   "execution_count": 19,
>>>>>>> 81fe1362f5173acc5b0cfa176728c3c81228678c
   "metadata": {},
   "outputs": [],
   "source": [
    "unique_smiles = df_AA2024.SMILES.unique()\n",
    "unique_times = df_AA2024.Time_h.unique()\n",
    "unique_pH = df_AA2024.pH.unique()\n",
    "unique_inhib_conc = df_AA2024.Inhib_Concentrat_M.unique()\n",
    "unique_salt_conc = df_AA2024.Salt_Concentrat_M.unique()\n",
    "\n",
    "time_min, time_max = df_AA2024.Time_h.min(), df_AA2024.Time_h.max()\n",
    "pH_min, pH_max = df_AA2024.pH.min(), df_AA2024.pH.max()\n",
    "inhib_conc_min, inhib_conc_max = df_AA2024.Inhib_Concentrat_M.min(), df_AA2024.Inhib_Concentrat_M.max()\n",
    "salt_conc_min, salt_conc_max = df_AA2024.Salt_Concentrat_M.min(), df_AA2024.Salt_Concentrat_M.max()\n",
    "efficiency_min, efficiency_max = df_AA2024.Efficiency.min(), df_AA2024.Efficiency.max()"
   ]
  },
  {
   "cell_type": "code",
   "execution_count": null,
   "metadata": {},
   "outputs": [],
   "source": []
  },
  {
   "cell_type": "markdown",
   "metadata": {},
   "source": [
    "# Data Processing"
   ]
  },
  {
   "cell_type": "code",
<<<<<<< HEAD
   "execution_count": 5,
=======
   "execution_count": 7,
>>>>>>> 81fe1362f5173acc5b0cfa176728c3c81228678c
   "metadata": {},
   "outputs": [],
   "source": [
    "import sys\n",
    "sys.path.append('../utils')\n",
    "from subsampling import random_subsample"
   ]
  },
  {
   "cell_type": "code",
<<<<<<< HEAD
   "execution_count": 6,
=======
   "execution_count": 8,
>>>>>>> 81fe1362f5173acc5b0cfa176728c3c81228678c
   "metadata": {},
   "outputs": [
    {
     "data": {
      "text/plain": [
       "(50, 6)"
      ]
     },
<<<<<<< HEAD
     "execution_count": 6,
=======
     "execution_count": 8,
>>>>>>> 81fe1362f5173acc5b0cfa176728c3c81228678c
     "metadata": {},
     "output_type": "execute_result"
    }
   ],
   "source": [
    "random_subsample(df_AA2024, 50).shape"
   ]
  },
  {
   "cell_type": "markdown",
   "metadata": {},
   "source": [
    "# Data Anaylsis"
   ]
  },
  {
   "cell_type": "code",
<<<<<<< HEAD
   "execution_count": 7,
=======
   "execution_count": 17,
>>>>>>> 81fe1362f5173acc5b0cfa176728c3c81228678c
   "metadata": {},
   "outputs": [
    {
     "data": {
      "text/html": [
       "<div>\n",
       "<style scoped>\n",
       "    .dataframe tbody tr th:only-of-type {\n",
       "        vertical-align: middle;\n",
       "    }\n",
       "\n",
       "    .dataframe tbody tr th {\n",
       "        vertical-align: top;\n",
       "    }\n",
       "\n",
       "    .dataframe thead th {\n",
       "        text-align: right;\n",
       "    }\n",
       "</style>\n",
       "<table border=\"1\" class=\"dataframe\">\n",
       "  <thead>\n",
       "    <tr style=\"text-align: right;\">\n",
       "      <th></th>\n",
       "      <th>SMILES</th>\n",
       "      <th>Time_h</th>\n",
       "      <th>pH</th>\n",
       "      <th>Inhib_Concentrat_M</th>\n",
       "      <th>Salt_Concentrat_M</th>\n",
       "    </tr>\n",
       "  </thead>\n",
       "  <tbody>\n",
       "    <tr>\n",
       "      <th>0</th>\n",
       "      <td>COCCOC(=O)OCSc1nc2c(s1)cccc2</td>\n",
       "      <td>24.0</td>\n",
       "      <td>4.0</td>\n",
       "      <td>0.0010</td>\n",
       "      <td>0.10</td>\n",
       "    </tr>\n",
       "    <tr>\n",
       "      <th>1</th>\n",
       "      <td>COCCOC(=O)OCSc1nc2c(s1)cccc2</td>\n",
       "      <td>24.0</td>\n",
       "      <td>10.0</td>\n",
       "      <td>0.0010</td>\n",
       "      <td>0.10</td>\n",
       "    </tr>\n",
       "    <tr>\n",
       "      <th>2</th>\n",
       "      <td>Cc1ccc(c(c1)n1nc2c(n1)cccc2)O</td>\n",
       "      <td>24.0</td>\n",
       "      <td>4.0</td>\n",
       "      <td>0.0010</td>\n",
       "      <td>0.10</td>\n",
       "    </tr>\n",
       "    <tr>\n",
       "      <th>3</th>\n",
       "      <td>Cc1ccc(c(c1)n1nc2c(n1)cccc2)O</td>\n",
       "      <td>24.0</td>\n",
       "      <td>10.0</td>\n",
       "      <td>0.0010</td>\n",
       "      <td>0.10</td>\n",
       "    </tr>\n",
       "    <tr>\n",
       "      <th>4</th>\n",
       "      <td>Clc1ccc(cc1)CC[C@](C(C)(C)C)(Cn1cncn1)O</td>\n",
       "      <td>24.0</td>\n",
       "      <td>4.0</td>\n",
       "      <td>0.0010</td>\n",
       "      <td>0.10</td>\n",
       "    </tr>\n",
       "    <tr>\n",
       "      <th>...</th>\n",
       "      <td>...</td>\n",
       "      <td>...</td>\n",
       "      <td>...</td>\n",
       "      <td>...</td>\n",
       "      <td>...</td>\n",
       "    </tr>\n",
       "    <tr>\n",
       "      <th>606</th>\n",
       "      <td>S=c1sc2c([nH]1)cccc2</td>\n",
       "      <td>24.0</td>\n",
       "      <td>7.0</td>\n",
       "      <td>0.0005</td>\n",
       "      <td>0.05</td>\n",
       "    </tr>\n",
       "    <tr>\n",
       "      <th>607</th>\n",
       "      <td>C(C(=O)[O-])C(CC(=O)[O-])(C(=O)[O-])O</td>\n",
       "      <td>24.0</td>\n",
       "      <td>7.0</td>\n",
       "      <td>0.0005</td>\n",
       "      <td>0.05</td>\n",
       "    </tr>\n",
       "    <tr>\n",
       "      <th>608</th>\n",
       "      <td>C(C(=O)[O-])C(CC(=O)[O-])(C(=O)[O-])O</td>\n",
       "      <td>24.0</td>\n",
       "      <td>7.0</td>\n",
       "      <td>0.0005</td>\n",
       "      <td>0.05</td>\n",
       "    </tr>\n",
       "    <tr>\n",
       "      <th>609</th>\n",
       "      <td>C(=O)(C(=O)[O-])[O-]</td>\n",
       "      <td>24.0</td>\n",
       "      <td>7.0</td>\n",
       "      <td>0.0005</td>\n",
       "      <td>0.05</td>\n",
       "    </tr>\n",
       "    <tr>\n",
       "      <th>610</th>\n",
       "      <td>C(=O)(C(=O)[O-])[O-]</td>\n",
       "      <td>24.0</td>\n",
       "      <td>7.0</td>\n",
       "      <td>0.0005</td>\n",
       "      <td>0.05</td>\n",
       "    </tr>\n",
       "  </tbody>\n",
       "</table>\n",
       "<p>611 rows × 5 columns</p>\n",
       "</div>"
      ],
      "text/plain": [
       "                                      SMILES  Time_h    pH  \\\n",
       "0               COCCOC(=O)OCSc1nc2c(s1)cccc2    24.0   4.0   \n",
       "1               COCCOC(=O)OCSc1nc2c(s1)cccc2    24.0  10.0   \n",
       "2              Cc1ccc(c(c1)n1nc2c(n1)cccc2)O    24.0   4.0   \n",
       "3              Cc1ccc(c(c1)n1nc2c(n1)cccc2)O    24.0  10.0   \n",
       "4    Clc1ccc(cc1)CC[C@](C(C)(C)C)(Cn1cncn1)O    24.0   4.0   \n",
       "..                                       ...     ...   ...   \n",
       "606                     S=c1sc2c([nH]1)cccc2    24.0   7.0   \n",
       "607    C(C(=O)[O-])C(CC(=O)[O-])(C(=O)[O-])O    24.0   7.0   \n",
       "608    C(C(=O)[O-])C(CC(=O)[O-])(C(=O)[O-])O    24.0   7.0   \n",
       "609                     C(=O)(C(=O)[O-])[O-]    24.0   7.0   \n",
       "610                     C(=O)(C(=O)[O-])[O-]    24.0   7.0   \n",
       "\n",
       "     Inhib_Concentrat_M  Salt_Concentrat_M  \n",
       "0                0.0010               0.10  \n",
       "1                0.0010               0.10  \n",
       "2                0.0010               0.10  \n",
       "3                0.0010               0.10  \n",
       "4                0.0010               0.10  \n",
       "..                  ...                ...  \n",
       "606              0.0005               0.05  \n",
       "607              0.0005               0.05  \n",
       "608              0.0005               0.05  \n",
       "609              0.0005               0.05  \n",
       "610              0.0005               0.05  \n",
       "\n",
       "[611 rows x 5 columns]"
      ]
     },
<<<<<<< HEAD
     "execution_count": 7,
=======
     "execution_count": 17,
>>>>>>> 81fe1362f5173acc5b0cfa176728c3c81228678c
     "metadata": {},
     "output_type": "execute_result"
    }
   ],
   "source": [
    "df_AA2024[[\"SMILES\", \"Time_h\", \"pH\", \"Inhib_Concentrat_M\", \"Salt_Concentrat_M\"]]"
   ]
  },
  {
   "cell_type": "markdown",
   "metadata": {},
   "source": [
    "# Bayesian Optimization"
   ]
  },
  {
   "cell_type": "code",
<<<<<<< HEAD
   "execution_count": 8,
   "metadata": {},
   "outputs": [],
=======
   "execution_count": 36,
   "metadata": {},
   "outputs": [
    {
     "ename": "AttributeError",
     "evalue": "type object 'SubstanceParameter' has no attribute 'name'",
     "output_type": "error",
     "traceback": [
      "\u001b[0;31m---------------------------------------------------------------------------\u001b[0m",
      "\u001b[0;31mAttributeError\u001b[0m                            Traceback (most recent call last)",
      "Cell \u001b[0;32mIn[36], line 36\u001b[0m\n\u001b[1;32m     23\u001b[0m parameters \u001b[38;5;241m=\u001b[39m [\n\u001b[1;32m     24\u001b[0m     SubstanceParameter(\n\u001b[1;32m     25\u001b[0m     name\u001b[38;5;241m=\u001b[39m\u001b[38;5;124m\"\u001b[39m\u001b[38;5;124mSolvent\u001b[39m\u001b[38;5;124m\"\u001b[39m,\n\u001b[0;32m   (...)\u001b[0m\n\u001b[1;32m     33\u001b[0m     \u001b[38;5;66;03m# NumericalDiscreteParameter(name=\"salt_conc\", values=unique_salt_conc),\u001b[39;00m\n\u001b[1;32m     34\u001b[0m ]\n\u001b[1;32m     35\u001b[0m \u001b[38;5;66;03m# searchspace = SubspaceDiscrete.from_product(parameters=parameters)\u001b[39;00m\n\u001b[0;32m---> 36\u001b[0m searchspace \u001b[38;5;241m=\u001b[39m \u001b[43mSubspaceDiscrete\u001b[49m\u001b[38;5;241;43m.\u001b[39;49m\u001b[43mfrom_dataframe\u001b[49m\u001b[43m(\u001b[49m\u001b[43mdf_AA2024\u001b[49m\u001b[43m[\u001b[49m\u001b[43m[\u001b[49m\u001b[38;5;124;43m\"\u001b[39;49m\u001b[38;5;124;43mSMILES\u001b[39;49m\u001b[38;5;124;43m\"\u001b[39;49m\u001b[43m,\u001b[49m\u001b[43m \u001b[49m\u001b[38;5;124;43m\"\u001b[39;49m\u001b[38;5;124;43mTime_h\u001b[39;49m\u001b[38;5;124;43m\"\u001b[39;49m\u001b[43m,\u001b[49m\u001b[43m \u001b[49m\u001b[38;5;124;43m\"\u001b[39;49m\u001b[38;5;124;43mpH\u001b[39;49m\u001b[38;5;124;43m\"\u001b[39;49m\u001b[43m,\u001b[49m\u001b[43m \u001b[49m\u001b[38;5;124;43m\"\u001b[39;49m\u001b[38;5;124;43mInhib_Concentrat_M\u001b[39;49m\u001b[38;5;124;43m\"\u001b[39;49m\u001b[43m,\u001b[49m\u001b[43m \u001b[49m\u001b[38;5;124;43m\"\u001b[39;49m\u001b[38;5;124;43mSalt_Concentrat_M\u001b[39;49m\u001b[38;5;124;43m\"\u001b[39;49m\u001b[43m]\u001b[49m\u001b[43m]\u001b[49m\u001b[43m,\u001b[49m\u001b[43mparameters\u001b[49m\u001b[38;5;241;43m=\u001b[39;49m\u001b[43m[\u001b[49m\u001b[43mSubstanceParameter\u001b[49m\u001b[43m,\u001b[49m\u001b[43mNumericalDiscreteParameter\u001b[49m\u001b[43m,\u001b[49m\u001b[43mNumericalDiscreteParameter\u001b[49m\u001b[43m,\u001b[49m\u001b[43mNumericalDiscreteParameter\u001b[49m\u001b[43m,\u001b[49m\u001b[43mNumericalDiscreteParameter\u001b[49m\u001b[43m]\u001b[49m\u001b[43m)\u001b[49m\n\u001b[1;32m     38\u001b[0m campaign \u001b[38;5;241m=\u001b[39m Campaign(\n\u001b[1;32m     39\u001b[0m     searchspace\u001b[38;5;241m=\u001b[39msearchspace,  \u001b[38;5;66;03m# Required\u001b[39;00m\n\u001b[1;32m     40\u001b[0m     objective\u001b[38;5;241m=\u001b[39mobjective,  \u001b[38;5;66;03m# Required\u001b[39;00m\n\u001b[1;32m     41\u001b[0m     \u001b[38;5;66;03m# recommender=recommender,  # Optional\u001b[39;00m\n\u001b[1;32m     42\u001b[0m )\n",
      "File \u001b[0;32m~/.local/lib/python3.10/site-packages/baybe/searchspace/discrete.py:261\u001b[0m, in \u001b[0;36mSubspaceDiscrete.from_dataframe\u001b[0;34m(cls, df, parameters, empty_encoding)\u001b[0m\n\u001b[1;32m    258\u001b[0m         \u001b[38;5;28;01mreturn\u001b[39;00m CategoricalParameter(name\u001b[38;5;241m=\u001b[39mname, values\u001b[38;5;241m=\u001b[39mvalues)\n\u001b[1;32m    260\u001b[0m \u001b[38;5;66;03m# Get the full list of both explicitly and implicitly defined parameter\u001b[39;00m\n\u001b[0;32m--> 261\u001b[0m parameters \u001b[38;5;241m=\u001b[39m \u001b[43mget_parameters_from_dataframe\u001b[49m\u001b[43m(\u001b[49m\n\u001b[1;32m    262\u001b[0m \u001b[43m    \u001b[49m\u001b[43mdf\u001b[49m\u001b[43m,\u001b[49m\u001b[43m \u001b[49m\u001b[43mdiscrete_parameter_factory\u001b[49m\u001b[43m,\u001b[49m\u001b[43m \u001b[49m\u001b[43mparameters\u001b[49m\n\u001b[1;32m    263\u001b[0m \u001b[43m\u001b[49m\u001b[43m)\u001b[49m\n\u001b[1;32m    265\u001b[0m \u001b[38;5;28;01mreturn\u001b[39;00m \u001b[38;5;28mcls\u001b[39m(parameters\u001b[38;5;241m=\u001b[39mparameters, exp_rep\u001b[38;5;241m=\u001b[39mdf, empty_encoding\u001b[38;5;241m=\u001b[39mempty_encoding)\n",
      "File \u001b[0;32m~/.local/lib/python3.10/site-packages/baybe/parameters/utils.py:49\u001b[0m, in \u001b[0;36mget_parameters_from_dataframe\u001b[0;34m(df, factory, parameters)\u001b[0m\n\u001b[1;32m     47\u001b[0m \u001b[38;5;28;01mif\u001b[39;00m parameters \u001b[38;5;129;01mis\u001b[39;00m \u001b[38;5;129;01mnot\u001b[39;00m \u001b[38;5;28;01mNone\u001b[39;00m:\n\u001b[1;32m     48\u001b[0m     \u001b[38;5;28;01mfor\u001b[39;00m param \u001b[38;5;129;01min\u001b[39;00m parameters:\n\u001b[0;32m---> 49\u001b[0m         \u001b[38;5;28;01mif\u001b[39;00m \u001b[43mparam\u001b[49m\u001b[38;5;241;43m.\u001b[39;49m\u001b[43mname\u001b[49m \u001b[38;5;129;01min\u001b[39;00m specified_params:\n\u001b[1;32m     50\u001b[0m             \u001b[38;5;28;01mraise\u001b[39;00m \u001b[38;5;167;01mValueError\u001b[39;00m(\n\u001b[1;32m     51\u001b[0m                 \u001b[38;5;124mf\u001b[39m\u001b[38;5;124m\"\u001b[39m\u001b[38;5;124mYou provided several parameters with the name \u001b[39m\u001b[38;5;124m'\u001b[39m\u001b[38;5;132;01m{\u001b[39;00mparam\u001b[38;5;241m.\u001b[39mname\u001b[38;5;132;01m}\u001b[39;00m\u001b[38;5;124m'\u001b[39m\u001b[38;5;124m.\u001b[39m\u001b[38;5;124m\"\u001b[39m\n\u001b[1;32m     52\u001b[0m             )\n\u001b[1;32m     53\u001b[0m         specified_params[param\u001b[38;5;241m.\u001b[39mname] \u001b[38;5;241m=\u001b[39m param\n",
      "\u001b[0;31mAttributeError\u001b[0m: type object 'SubstanceParameter' has no attribute 'name'"
     ]
    }
   ],
>>>>>>> 81fe1362f5173acc5b0cfa176728c3c81228678c
   "source": [
    "from baybe import Campaign\n",
    "\n",
    "from baybe.targets import NumericalTarget\n",
    "from baybe.objective import Objective\n",
    "from baybe.searchspace import SubspaceDiscrete\n",
<<<<<<< HEAD
    "from baybe.searchspace import SearchSpace\n",
=======
>>>>>>> 81fe1362f5173acc5b0cfa176728c3c81228678c
    "from baybe.parameters import NumericalDiscreteParameter\n",
    "from baybe.parameters import SubstanceParameter\n",
    "\n",
    "\n",
    "def list_to_dict(input_list):\n",
    "    return {item: item for item in input_list}\n",
    "\n",
    "smiles_dict =list_to_dict(unique_smiles)\n",
    "\n",
    "\n",
    "target = NumericalTarget(name=\"Efficiency\", mode=\"MAX\", bounds=(efficiency_min, efficiency_max), transformation=\"LINEAR\")\n",
    "objective = Objective(mode=\"SINGLE\", targets=[target])\n",
    "\n",
<<<<<<< HEAD
    "parameters = [\n",
    "NumericalDiscreteParameter(\n",
    "    name=\"Time_h\",\n",
    "    values=df_AA2024['Time_h'].unique(),\n",
    "    # tolerance = 0.004, assume certain experimental noise for each parameter measurement?\n",
    "),\n",
    "NumericalDiscreteParameter(\n",
    "    name=\"pH\",\n",
    "    values=df_AA2024['pH'].unique(),\n",
    "    # tolerance = 0.004\n",
    "    ),  \n",
    "NumericalDiscreteParameter( # Set this as continuous, the values seem quite small?\n",
    "    name=\"Inhib_Concentrat_M\",\n",
    "    values= df_AA2024['Inhib_Concentrat_M'].unique(),\n",
    "    # tolerance = 0.004\n",
    "    ),\n",
    "NumericalDiscreteParameter(\n",
    "    name=\"Salt_Concentrat_M\",\n",
    "    values=df_AA2024['Salt_Concentrat_M'].unique(),\n",
    "    # tolerance = 0.004\n",
    "    ),\n",
    "SubstanceParameter(\n",
    "    name=\"SMILES\",\n",
    "    data=smiles_dict,\n",
    "    encoding=\"MORGAN_FP\",  # optional\n",
    "    decorrelate=0.7,  # optional\n",
    "    )        \n",
    "    ]\n",
    "# searchspace = SubspaceDiscrete.from_product(parameters=parameters)\n",
    "df_no_target = df_AA2024.drop('Efficiency', axis=1)\n",
    "\n",
    "searchspace = SearchSpace.from_dataframe(df = df_no_target, parameters=parameters)\n",
=======
    "\n",
    "\n",
    "\n",
    "\n",
    "parameters = [\n",
    "    SubstanceParameter(\n",
    "    name=\"Solvent\",\n",
    "    data=smiles_dict,\n",
    "    encoding=\"MORGAN_FP\",  # optional\n",
    "    decorrelate=0.7,  # optional\n",
    "),\n",
    "    # NumericalDiscreteParameter(name=\"time\", values=unique_times),\n",
    "    # NumericalDiscreteParameter(name=\"pH\", values=unique_pH),\n",
    "    # NumericalDiscreteParameter(name=\"inhib_conc\", values=unique_inhib_conc),\n",
    "    # NumericalDiscreteParameter(name=\"salt_conc\", values=unique_salt_conc),\n",
    "]\n",
    "# searchspace = SubspaceDiscrete.from_product(parameters=parameters)\n",
    "searchspace = SubspaceDiscrete.from_dataframe(df_AA2024[[\"SMILES\", \"Time_h\", \"pH\", \"Inhib_Concentrat_M\", \"Salt_Concentrat_M\"]])\n",
>>>>>>> 81fe1362f5173acc5b0cfa176728c3c81228678c
    "\n",
    "campaign = Campaign(\n",
    "    searchspace=searchspace,  # Required\n",
    "    objective=objective,  # Required\n",
    "    # recommender=recommender,  # Optional\n",
    ")"
   ]
  },
  {
   "cell_type": "code",
<<<<<<< HEAD
   "execution_count": 9,
=======
   "execution_count": 34,
>>>>>>> 81fe1362f5173acc5b0cfa176728c3c81228678c
   "metadata": {},
   "outputs": [
    {
     "data": {
      "text/plain": [
<<<<<<< HEAD
       "SearchSpace(discrete=SubspaceDiscrete(parameters=[NumericalDiscreteParameter(name='Time_h', encoding=None, _values=[0.5, 1.0, 2.0, 3.0, 6.0, 24.0, 48.0, 72.0, 96.0, 120.0, 144.0, 168.0, 192.0, 240.0, 288.0, 336.0, 360.0, 384.0, 432.0, 480.0, 528.0, 576.0, 600.0, 624.0, 672.0], tolerance=0.0), NumericalDiscreteParameter(name='pH', encoding=None, _values=[0.0, 3.3, 4.0, 4.4, 5.4, 5.5, 5.6, 7.0, 10.0], tolerance=0.0), NumericalDiscreteParameter(name='Inhib_Concentrat_M', encoding=None, _values=[1e-05, 5e-05, 0.0001, 0.0002, 0.0003, 0.0004, 0.0005, 0.0006, 0.0008, 0.001, 0.0012, 0.0018, 0.0024, 0.003, 0.005, 0.01, 0.011, 0.021, 0.022, 0.031, 0.033, 0.042, 0.044, 0.05, 0.1], tolerance=0.0), NumericalDiscreteParameter(name='Salt_Concentrat_M', encoding=None, _values=[0.0, 0.01, 0.05, 0.1, 0.5, 0.6], tolerance=0.0), SubstanceParameter(name='SMILES', data={'COCCOC(=O)OCSc1nc2c(s1)cccc2': 'COCCOC(=O)OCSc1nc2c(s1)cccc2', 'Cc1ccc(c(c1)n1nc2c(n1)cccc2)O': 'Cc1ccc(c(c1)n1nc2c(n1)cccc2)O', 'Clc1ccc(cc1)CC[C@](C(C)(C)C)(Cn1cncn1)O': 'Clc1ccc(cc1)CC[C@](C(C)(C)C)(Cn1cncn1)O', 'On1nnc2c1cccc2': 'On1nnc2c1cccc2', 'c1ncn[nH]1': 'c1ncn[nH]1', 'Sc1n[nH]cn1': 'Sc1n[nH]cn1', 'S[C]1NC2=C[CH]C=NC2=N1': 'S[C]1NC2=C[CH]C=NC2=N1', 'S=c1[nH]c2c([nH]1)nccn2': 'S=c1[nH]c2c([nH]1)nccn2', 'Sc1ncc[nH]1': 'Sc1ncc[nH]1', 'C=CC(=O)OCCOC(=O)OCCSc1ncccn1': 'C=CC(=O)OCCOC(=O)OCCSc1ncccn1', 'CCSc1nnc(s1)N': 'CCSc1nnc(s1)N', 'CSc1nnc(s1)N': 'CSc1nnc(s1)N', 'Cc1ccc2c(c1)nc([nH]2)S': 'Cc1ccc2c(c1)nc([nH]2)S', 'OC(=O)CS': 'OC(=O)CS', 'Sc1nc2c([nH]1)cccc2': 'Sc1nc2c([nH]1)cccc2', 'OC(=O)c1ccccc1S': 'OC(=O)c1ccccc1S', 'S=c1sc2c([nH]1)cccc2': 'S=c1sc2c([nH]1)cccc2', 'OC(=O)c1cccnc1S': 'OC(=O)c1cccnc1S', 'Sc1ncccn1': 'Sc1ncccn1', 'c1ccc(nc1)c1ccccn1': 'c1ccc(nc1)c1ccccn1', 'Sc1nnc(s1)S': 'Sc1nnc(s1)S', 'Nc1cc(S)nc(n1)N': 'Nc1cc(S)nc(n1)N', 'Nc1nc([nH]n1)C(=O)O': 'Nc1nc([nH]n1)C(=O)O', 'Nc1n[nH]cn1': 'Nc1n[nH]cn1', 'OC(=O)c1n[nH]c(n1)N': 'OC(=O)c1n[nH]c(n1)N', 'Nc1n[nH]c(n1)S': 'Nc1n[nH]c(n1)S', 'CS[C]1N[N]C(=N1)N': 'CS[C]1N[N]C(=N1)N', 'C1=CC(=CC(=C1)S)C(=O)O': 'C1=CC(=CC(=C1)S)C(=O)O', 'OC(=O)CCS': 'OC(=O)CCS', 'Oc1ccccc1c1nnc([nH]1)S': 'Oc1ccccc1c1nnc([nH]1)S', 'Nn1cnnc1': 'Nn1cnnc1', 'Nc1ccnc(n1)S': 'Nc1ccnc(n1)S', 'Nn1c(NN)nnc1S': 'Nn1c(NN)nnc1S', 'Nn1c(S)nnc1c1ccccc1': 'Nn1c(S)nnc1c1ccccc1', 'Sc1nc(N)c2c(n1)[nH]nc2': 'Sc1nc(N)c2c(n1)[nH]nc2', 'Oc1ccc(cc1)C(=O)O': 'Oc1ccc(cc1)C(=O)O', 'OC(=O)c1ccc(cc1)S': 'OC(=O)c1ccc(cc1)S', 'Cn1cnnc1S': 'Cn1cnnc1S', 'Sc1nc(N)c(c(n1)S)N': 'Sc1nc(N)c(c(n1)S)N', 'Nc1ncncc1N': 'Nc1ncncc1N', 'Nc1cc(N)nc(n1)S': 'Nc1cc(N)nc(n1)S', 'Cc1cc(C)nc(n1)S': 'Cc1cc(C)nc(n1)S', 'Clc1cccc(c1)c1n[nH]c(=S)[nH]1': 'Clc1cccc(c1)c1n[nH]c(=S)[nH]1', 'COc1cccc(c1)c1n[nH]c(=S)[nH]1': 'COc1cccc(c1)c1n[nH]c(=S)[nH]1', 'Clc1ccc(cc1Cl)c1n[nH]c(=S)[nH]1': 'Clc1ccc(cc1Cl)c1n[nH]c(=S)[nH]1', 'c1cc(ccc1c2[nH]c(nn2)S)[N+](=O)[O-]': 'c1cc(ccc1c2[nH]c(nn2)S)[N+](=O)[O-]', 'S=c1[nH]nc([nH]1)c1ccco1': 'S=c1[nH]nc([nH]1)c1ccco1', 'S=c1[nH]nc([nH]1)c1cccnc1': 'S=c1[nH]nc([nH]1)c1cccnc1', 'S=c1[nH]nc([nH]1)c1ccncc1': 'S=c1[nH]nc([nH]1)c1ccncc1', 'Nc1n[nH]c(=S)s1': 'Nc1n[nH]c(=S)s1', 'Cc1nsc(c1)N': 'Cc1nsc(c1)N', 'Clc1ccc2c(c1)[nH]c(n2)S': 'Clc1ccc2c(c1)[nH]c(n2)S', 'CCOc1ccc2c(c1)nc([nH]2)S': 'CCOc1ccc2c(c1)nc([nH]2)S', 'Cn1nnnc1S': 'Cn1nnnc1S', 'OC(=O)Cn1nnnc1S': 'OC(=O)Cn1nnnc1S', 'COc1ccc2c(c1)[nH]c(=S)[nH]2': 'COc1ccc2c(c1)[nH]c(=S)[nH]2', 'Cc1n[nH]c(=S)s1': 'Cc1n[nH]c(=S)s1', 'ClC([C]1N[N]C=N1)(Cl)Cl': 'ClC([C]1N[N]C=N1)(Cl)Cl', 'Clc1cc2[nH]c(=S)[nH]c2cc1Cl': 'Clc1cc2[nH]c(=S)[nH]c2cc1Cl', 'CSc1[nH]c2c(n1)cc(c(c2)C)C': 'CSc1[nH]c2c(n1)cc(c(c2)C)C', 'Nc1ccc2c(c1)sc(=S)[nH]2': 'Nc1ccc2c(c1)sc(=S)[nH]2', 'OC(=O)c1ccc(=S)[nH]c1': 'OC(=O)c1ccc(=S)[nH]c1', 'Oc1cccc2c1nccc2': 'Oc1cccc2c1nccc2', 'S=c1[nH]c2c([nH]1)c(=O)n(cn2)C': 'S=c1[nH]c2c([nH]1)c(=O)n(cn2)C', 'S=c1[nH]c2c([nH]1)cncn2': 'S=c1[nH]c2c([nH]1)cncn2', 'CC(=O)O': 'CC(=O)O', 'OC(=O)CCCCC(=O)O': 'OC(=O)CCCCC(=O)O', 'OC(=O)c1ccccc1': 'OC(=O)c1ccccc1', 'c1ccc2c(c1)[nH]nn2': 'c1ccc2c(c1)[nH]nn2', 'OC(=O)c1ccc(cc1)c1ccccc1': 'OC(=O)c1ccc(cc1)c1ccccc1', 'OC(=O)/C=C/c1ccccc1': 'OC(=O)/C=C/c1ccccc1', 'C(C(=O)[O-])C(CC(=O)[O-])(C(=O)[O-])O': 'C(C(=O)[O-])C(CC(=O)[O-])(C(=O)[O-])O', 'O[C@H]1C(=O)OCC1(C)C': 'O[C@H]1C(=O)OCC1(C)C', 'OC[C@H]1OC(O)[C@H](O)[C@@H](O)[C@@H]1O': 'OC[C@H]1OC(O)[C@H](O)[C@@H](O)[C@@H]1O', 'OC[C@H]([C@H]([C@@H]([C@@H](CO)O)O)O)O': 'OC[C@H]([C@H]([C@@H]([C@@H](CO)O)O)O)O', 'CC(=O)SSC(=O)C': 'CC(=O)SSC(=O)C', 'CCCCOP(=O)(OCCCC)O': 'CCCCOP(=O)(OCCCC)O', 'CCN(C(=S)S)CC': 'CCN(C(=S)S)CC', 'O/N=C(/C(=N/O)/C)\\\\C': 'O/N=C(/C(=N/O)/C)\\\\C', 'CCCCCCCCCCCCc1ccccc1S([O])([O])O': 'CCCCCCCCCCCCc1ccccc1S([O])([O])O', 'CCCCCCCCCCCCOS(=O)(=O)O': 'CCCCCCCCCCCCOS(=O)(=O)O', 'OC(=O)CN(CC(=O)O)CCN(CC(=O)O)CC(=O)O': 'OC(=O)CN(CC(=O)O)CCN(CC(=O)O)CC(=O)O', 'O/N=C(\\\\C(=N/O)\\\\c1ccco1)/c1ccco1': 'O/N=C(\\\\C(=N/O)\\\\c1ccco1)/c1ccco1', 'OC[C@H]([C@H]([C@@H]([C@H](C(=O)O)O)O)O)O': 'OC[C@H]([C@H]([C@@H]([C@H](C(=O)O)O)O)O)O', 'OCC(CO)O': 'OCC(CO)O', 'NCC(=O)O': 'NCC(=O)O', 'OC(=O)CCCCCCCCCCCCCCC(=O)O': 'OC(=O)CCCCCCCCCCCCCCC(=O)O', 'C1N2CN3CN1CN(C2)C3': 'C1N2CN3CN1CN(C2)C3', 'NO': 'NO', 'COC(=O)CCCC1=CNC2=CC=CC=C21': 'COC(=O)CCCC1=CNC2=CC=CC=C21', 'OC(=O)c1ccncc1': 'OC(=O)c1ccncc1', 'C1COCCN1CCCS(=O)(=O)O': 'C1COCCN1CCCS(=O)(=O)O', 'OC(=O)c1cccnc1': 'OC(=O)c1cccnc1', 'CCCCCCCC/C=C\\\\CCCCCCCC(=O)O': 'CCCCCCCC/C=C\\\\CCCCCCCC(=O)O', 'C(=O)(C(=O)[O-])[O-]': 'C(=O)(C(=O)[O-])[O-]', 'OC(=O)c1ccc(cc1)N': 'OC(=O)c1ccc(cc1)N', 'Oc1ccc(cc1)S([O])([O])O': 'Oc1ccc(cc1)S([O])([O])O', 'OC(=O)c1ccccn1': 'OC(=O)c1ccccn1', 'OC(=O)c1ccccc1O': 'OC(=O)c1ccccc1O', 'CCCCCCCCCCCCCCCCCC(=O)O': 'CCCCCCCCCCCCCCCCCC(=O)O', 'SC#N': 'SC#N', 'C1=CC(=C(C=C1SSC2=CC(=C(C=C2)[N+](=O)[O-])C(=O)O)C(=O)O)[N+](=O)[O-]': 'C1=CC(=C(C=C1SSC2=CC(=C(C=C2)[N+](=O)[O-])C(=O)O)C(=O)O)[N+](=O)[O-]', '[O-]S(=O)[O-].[Na+].[Na+]': '[O-]S(=O)[O-].[Na+].[Na+]', 'CCCCCCCCN(CC(=O)O[Na])CC(=O)O[Na]': 'CCCCCCCCN(CC(=O)O[Na])CC(=O)O[Na]', 'CCCCCCCCCCCCN(CC(=O)O[Na])CC(=O)O[Na]': 'CCCCCCCCCCCCN(CC(=O)O[Na])CC(=O)O[Na]', 'CCCCCCCCCCCCCCN(CC(=O)O[Na])CC(=O)O[Na]': 'CCCCCCCCCCCCCCN(CC(=O)O[Na])CC(=O)O[Na]', 'CC1(C(N2C(S1)C(C2=O)NC(=O)C(C3=CC=C(C=C3)O)N)C(=O)O)C': 'CC1(C(N2C(S1)C(C2=O)NC(=O)C(C3=CC=C(C=C3)O)N)C(=O)O)C', 'CN1C=NC2=C1C(=O)N(C(=O)N2C)C': 'CN1C=NC2=C1C(=O)N(C(=O)N2C)C', 'N.N.[N+](=O)(O)[O-].[N+](=O)(O)[O-].[N+](=O)([O-])[O-].[N+](=O)([O-])[O-].[N+](=O)([O-])[O-].O.O.O.O.[Ce+3]': 'N.N.[N+](=O)(O)[O-].[N+](=O)(O)[O-].[N+](=O)([O-])[O-].[N+](=O)([O-])[O-].[N+](=O)([O-])[O-].O.O.O.O.[Ce+3]', '[NH4+].[NH4+].[N+](=O)([O-])[O-].[N+](=O)([O-])[O-].[N+](=O)([O-])[O-].[N+](=O)([O-])[O-].[N+](=O)([O-])[O-].[N+](=O)([O-])[O-].[Ce+4]': '[NH4+].[NH4+].[N+](=O)([O-])[O-].[N+](=O)([O-])[O-].[N+](=O)([O-])[O-].[N+](=O)([O-])[O-].[N+](=O)([O-])[O-].[N+](=O)([O-])[O-].[Ce+4]', '[N+](=O)([O-])[O-].[N+](=O)([O-])[O-].[N+](=O)([O-])[O-].[Ce+3]': '[N+](=O)([O-])[O-].[N+](=O)([O-])[O-].[N+](=O)([O-])[O-].[Ce+3]', '[O-]S(=O)(=O)[O-].[O-]S(=O)(=O)[O-].[O-]S(=O)(=O)[O-].[Ce+3].[Ce+3]': '[O-]S(=O)(=O)[O-].[O-]S(=O)(=O)[O-].[O-]S(=O)(=O)[O-].[Ce+3].[Ce+3]', '[Cl-].[Cl-].[Cl-].[Ce+3]': '[Cl-].[Cl-].[Cl-].[Ce+3]', 'CNCC(C1=CC(=CC=C1)O)O': 'CNCC(C1=CC(=CC=C1)O)O', 'C(C(C(C(C(C(=O)[O-])O)O)O)O)O.C(C(C(C(C(C(=O)[O-])O)O)O)O)O.[Fe+2]': 'C(C(C(C(C(C(=O)[O-])O)O)O)O)O.C(C(C(C(C(C(=O)[O-])O)O)O)O)O.[Fe+2]', 'C(C(C(C(C(C(=O)[O-])O)O)O)O)O.C(C(C(C(C(C(=O)[O-])O)O)O)O)O.[Zn+2]': 'C(C(C(C(C(C(=O)[O-])O)O)O)O)O.C(C(C(C(C(C(=O)[O-])O)O)O)O)O.[Zn+2]', 'C1=CC=C(C(=C1)C=NNC(=S)N)O': 'C1=CC=C(C(=C1)C=NNC(=S)N)O', 'C1=CC(=C(C=C1O)O)C=NNC(=S)N': 'C1=CC(=C(C=C1O)O)C=NNC(=S)N', 'NC(=S)NN=CC1=C(C(=C(C=C1)O)O)O': 'NC(=S)NN=CC1=C(C(=C(C=C1)O)O)O', 'CCCCN(CCCC)C1=NC(=NC(=N1)NC(CCSC)C(=O)O)NC(CCSC)C(=O)O': 'CCCCN(CCCC)C1=NC(=NC(=N1)NC(CCSC)C(=O)O)NC(CCSC)C(=O)O', 'C1=CC2=NNN=C2C=C1Cl': 'C1=CC2=NNN=C2C=C1Cl', 'O=C([O-])C(O)C(O)C(O)C(O)CO.[Na+]': 'O=C([O-])C(O)C(O)C(O)C(O)CO.[Na+]', 'COC(=O)n1nnc2ccccc12': 'COC(=O)n1nnc2ccccc12'}, decorrelate=0.7, encoding=<SubstanceEncoding.MORGAN_FP: 'MORGAN_FP'>)], exp_rep=     Time_h    pH  Inhib_Concentrat_M  Salt_Concentrat_M  \\\n",
       "0      24.0   4.0              0.0010               0.10   \n",
       "1      24.0  10.0              0.0010               0.10   \n",
       "2      24.0   4.0              0.0010               0.10   \n",
       "3      24.0  10.0              0.0010               0.10   \n",
       "4      24.0   4.0              0.0010               0.10   \n",
       "..      ...   ...                 ...                ...   \n",
       "606    24.0   7.0              0.0005               0.05   \n",
       "607    24.0   7.0              0.0005               0.05   \n",
       "608    24.0   7.0              0.0005               0.05   \n",
       "609    24.0   7.0              0.0005               0.05   \n",
       "610    24.0   7.0              0.0005               0.05   \n",
       "\n",
       "                                      SMILES  \n",
       "0               COCCOC(=O)OCSc1nc2c(s1)cccc2  \n",
       "1               COCCOC(=O)OCSc1nc2c(s1)cccc2  \n",
       "2              Cc1ccc(c(c1)n1nc2c(n1)cccc2)O  \n",
       "3              Cc1ccc(c(c1)n1nc2c(n1)cccc2)O  \n",
       "4    Clc1ccc(cc1)CC[C@](C(C)(C)C)(Cn1cncn1)O  \n",
       "..                                       ...  \n",
       "606                     S=c1sc2c([nH]1)cccc2  \n",
       "607    C(C(=O)[O-])C(CC(=O)[O-])(C(=O)[O-])O  \n",
       "608    C(C(=O)[O-])C(CC(=O)[O-])(C(=O)[O-])O  \n",
       "609                     C(=O)(C(=O)[O-])[O-]  \n",
       "610                     C(=O)(C(=O)[O-])[O-]  \n",
=======
       "SubspaceDiscrete(parameters=[CategoricalParameter(name='SMILES', _values=('COCCOC(=O)OCSc1nc2c(s1)cccc2', 'Cc1ccc(c(c1)n1nc2c(n1)cccc2)O', 'Clc1ccc(cc1)CC[C@](C(C)(C)C)(Cn1cncn1)O', 'On1nnc2c1cccc2', 'c1ncn[nH]1', 'Sc1n[nH]cn1', 'S[C]1NC2=C[CH]C=NC2=N1', 'S=c1[nH]c2c([nH]1)nccn2', 'Sc1ncc[nH]1', 'C=CC(=O)OCCOC(=O)OCCSc1ncccn1', 'CCSc1nnc(s1)N', 'CSc1nnc(s1)N', 'Cc1ccc2c(c1)nc([nH]2)S', 'OC(=O)CS', 'Sc1nc2c([nH]1)cccc2', 'OC(=O)c1ccccc1S', 'S=c1sc2c([nH]1)cccc2', 'OC(=O)c1cccnc1S', 'Sc1ncccn1', 'c1ccc(nc1)c1ccccn1', 'Sc1nnc(s1)S', 'Nc1cc(S)nc(n1)N', 'Nc1nc([nH]n1)C(=O)O', 'Nc1n[nH]cn1', 'OC(=O)c1n[nH]c(n1)N', 'Nc1n[nH]c(n1)S', 'CS[C]1N[N]C(=N1)N', 'C1=CC(=CC(=C1)S)C(=O)O', 'OC(=O)CCS', 'Oc1ccccc1c1nnc([nH]1)S', 'Nn1cnnc1', 'Nc1ccnc(n1)S', 'Nn1c(NN)nnc1S', 'Nn1c(S)nnc1c1ccccc1', 'Sc1nc(N)c2c(n1)[nH]nc2', 'Oc1ccc(cc1)C(=O)O', 'OC(=O)c1ccc(cc1)S', 'Cn1cnnc1S', 'Sc1nc(N)c(c(n1)S)N', 'Nc1ncncc1N', 'Nc1cc(N)nc(n1)S', 'Cc1cc(C)nc(n1)S', 'Clc1cccc(c1)c1n[nH]c(=S)[nH]1', 'COc1cccc(c1)c1n[nH]c(=S)[nH]1', 'Clc1ccc(cc1Cl)c1n[nH]c(=S)[nH]1', 'c1cc(ccc1c2[nH]c(nn2)S)[N+](=O)[O-]', 'S=c1[nH]nc([nH]1)c1ccco1', 'S=c1[nH]nc([nH]1)c1cccnc1', 'S=c1[nH]nc([nH]1)c1ccncc1', 'Nc1n[nH]c(=S)s1', 'Cc1nsc(c1)N', 'Clc1ccc2c(c1)[nH]c(n2)S', 'CCOc1ccc2c(c1)nc([nH]2)S', 'Cn1nnnc1S', 'OC(=O)Cn1nnnc1S', 'COc1ccc2c(c1)[nH]c(=S)[nH]2', 'Cc1n[nH]c(=S)s1', 'ClC([C]1N[N]C=N1)(Cl)Cl', 'Clc1cc2[nH]c(=S)[nH]c2cc1Cl', 'CSc1[nH]c2c(n1)cc(c(c2)C)C', 'Nc1ccc2c(c1)sc(=S)[nH]2', 'OC(=O)c1ccc(=S)[nH]c1', 'Oc1cccc2c1nccc2', 'S=c1[nH]c2c([nH]1)c(=O)n(cn2)C', 'S=c1[nH]c2c([nH]1)cncn2', 'CC(=O)O', 'OC(=O)CCCCC(=O)O', 'OC(=O)c1ccccc1', 'c1ccc2c(c1)[nH]nn2', 'OC(=O)c1ccc(cc1)c1ccccc1', 'OC(=O)/C=C/c1ccccc1', 'C(C(=O)[O-])C(CC(=O)[O-])(C(=O)[O-])O', 'O[C@H]1C(=O)OCC1(C)C', 'OC[C@H]1OC(O)[C@H](O)[C@@H](O)[C@@H]1O', 'OC[C@H]([C@H]([C@@H]([C@@H](CO)O)O)O)O', 'CC(=O)SSC(=O)C', 'CCCCOP(=O)(OCCCC)O', 'CCN(C(=S)S)CC', 'O/N=C(/C(=N/O)/C)\\\\C', 'CCCCCCCCCCCCc1ccccc1S([O])([O])O', 'CCCCCCCCCCCCOS(=O)(=O)O', 'OC(=O)CN(CC(=O)O)CCN(CC(=O)O)CC(=O)O', 'O/N=C(\\\\C(=N/O)\\\\c1ccco1)/c1ccco1', 'OC[C@H]([C@H]([C@@H]([C@H](C(=O)O)O)O)O)O', 'OCC(CO)O', 'NCC(=O)O', 'OC(=O)CCCCCCCCCCCCCCC(=O)O', 'C1N2CN3CN1CN(C2)C3', 'NO', 'COC(=O)CCCC1=CNC2=CC=CC=C21', 'OC(=O)c1ccncc1', 'C1COCCN1CCCS(=O)(=O)O', 'OC(=O)c1cccnc1', 'CCCCCCCC/C=C\\\\CCCCCCCC(=O)O', 'C(=O)(C(=O)[O-])[O-]', 'OC(=O)c1ccc(cc1)N', 'Oc1ccc(cc1)S([O])([O])O', 'OC(=O)c1ccccn1', 'OC(=O)c1ccccc1O', 'CCCCCCCCCCCCCCCCCC(=O)O', 'SC#N', 'C1=CC(=C(C=C1SSC2=CC(=C(C=C2)[N+](=O)[O-])C(=O)O)C(=O)O)[N+](=O)[O-]', '[O-]S(=O)[O-].[Na+].[Na+]', 'CCCCCCCCN(CC(=O)O[Na])CC(=O)O[Na]', 'CCCCCCCCCCCCN(CC(=O)O[Na])CC(=O)O[Na]', 'CCCCCCCCCCCCCCN(CC(=O)O[Na])CC(=O)O[Na]', 'CC1(C(N2C(S1)C(C2=O)NC(=O)C(C3=CC=C(C=C3)O)N)C(=O)O)C', 'CN1C=NC2=C1C(=O)N(C(=O)N2C)C', 'N.N.[N+](=O)(O)[O-].[N+](=O)(O)[O-].[N+](=O)([O-])[O-].[N+](=O)([O-])[O-].[N+](=O)([O-])[O-].O.O.O.O.[Ce+3]', '[NH4+].[NH4+].[N+](=O)([O-])[O-].[N+](=O)([O-])[O-].[N+](=O)([O-])[O-].[N+](=O)([O-])[O-].[N+](=O)([O-])[O-].[N+](=O)([O-])[O-].[Ce+4]', '[N+](=O)([O-])[O-].[N+](=O)([O-])[O-].[N+](=O)([O-])[O-].[Ce+3]', '[O-]S(=O)(=O)[O-].[O-]S(=O)(=O)[O-].[O-]S(=O)(=O)[O-].[Ce+3].[Ce+3]', '[Cl-].[Cl-].[Cl-].[Ce+3]', 'CNCC(C1=CC(=CC=C1)O)O', 'C(C(C(C(C(C(=O)[O-])O)O)O)O)O.C(C(C(C(C(C(=O)[O-])O)O)O)O)O.[Fe+2]', 'C(C(C(C(C(C(=O)[O-])O)O)O)O)O.C(C(C(C(C(C(=O)[O-])O)O)O)O)O.[Zn+2]', 'C1=CC=C(C(=C1)C=NNC(=S)N)O', 'C1=CC(=C(C=C1O)O)C=NNC(=S)N', 'NC(=S)NN=CC1=C(C(=C(C=C1)O)O)O', 'CCCCN(CCCC)C1=NC(=NC(=N1)NC(CCSC)C(=O)O)NC(CCSC)C(=O)O', 'C1=CC2=NNN=C2C=C1Cl', 'O=C([O-])C(O)C(O)C(O)C(O)CO.[Na+]', 'COC(=O)n1nnc2ccccc12'), encoding=<CategoricalEncoding.OHE: 'OHE'>), NumericalDiscreteParameter(name='Time_h', encoding=None, _values=[0.5, 1.0, 2.0, 3.0, 6.0, 24.0, 48.0, 72.0, 96.0, 120.0, 144.0, 168.0, 192.0, 240.0, 288.0, 336.0, 360.0, 384.0, 432.0, 480.0, 528.0, 576.0, 600.0, 624.0, 672.0], tolerance=0.0), NumericalDiscreteParameter(name='pH', encoding=None, _values=[0.0, 3.3, 4.0, 4.4, 5.4, 5.5, 5.6, 7.0, 10.0], tolerance=0.0), NumericalDiscreteParameter(name='Inhib_Concentrat_M', encoding=None, _values=[1e-05, 5e-05, 0.0001, 0.0002, 0.0003, 0.0004, 0.0005, 0.0006, 0.0008, 0.001, 0.0012, 0.0018, 0.0024, 0.003, 0.005, 0.01, 0.011, 0.021, 0.022, 0.031, 0.033, 0.042, 0.044, 0.05, 0.1], tolerance=0.0), NumericalDiscreteParameter(name='Salt_Concentrat_M', encoding=None, _values=[0.0, 0.01, 0.05, 0.1, 0.5, 0.6], tolerance=0.0)], exp_rep=                                      SMILES  Time_h    pH  \\\n",
       "0               COCCOC(=O)OCSc1nc2c(s1)cccc2    24.0   4.0   \n",
       "1               COCCOC(=O)OCSc1nc2c(s1)cccc2    24.0  10.0   \n",
       "2              Cc1ccc(c(c1)n1nc2c(n1)cccc2)O    24.0   4.0   \n",
       "3              Cc1ccc(c(c1)n1nc2c(n1)cccc2)O    24.0  10.0   \n",
       "4    Clc1ccc(cc1)CC[C@](C(C)(C)C)(Cn1cncn1)O    24.0   4.0   \n",
       "..                                       ...     ...   ...   \n",
       "606                     S=c1sc2c([nH]1)cccc2    24.0   7.0   \n",
       "607    C(C(=O)[O-])C(CC(=O)[O-])(C(=O)[O-])O    24.0   7.0   \n",
       "608    C(C(=O)[O-])C(CC(=O)[O-])(C(=O)[O-])O    24.0   7.0   \n",
       "609                     C(=O)(C(=O)[O-])[O-]    24.0   7.0   \n",
       "610                     C(=O)(C(=O)[O-])[O-]    24.0   7.0   \n",
       "\n",
       "     Inhib_Concentrat_M  Salt_Concentrat_M  \n",
       "0                0.0010               0.10  \n",
       "1                0.0010               0.10  \n",
       "2                0.0010               0.10  \n",
       "3                0.0010               0.10  \n",
       "4                0.0010               0.10  \n",
       "..                  ...                ...  \n",
       "606              0.0005               0.05  \n",
       "607              0.0005               0.05  \n",
       "608              0.0005               0.05  \n",
       "609              0.0005               0.05  \n",
       "610              0.0005               0.05  \n",
>>>>>>> 81fe1362f5173acc5b0cfa176728c3c81228678c
       "\n",
       "[611 rows x 5 columns], metadata=     was_recommended  was_measured  dont_recommend\n",
       "0              False         False           False\n",
       "1              False         False           False\n",
       "2              False         False           False\n",
       "3              False         False           False\n",
       "4              False         False           False\n",
       "..               ...           ...             ...\n",
       "606            False         False           False\n",
       "607            False         False           False\n",
       "608            False         False           False\n",
       "609            False         False           False\n",
       "610            False         False           False\n",
       "\n",
<<<<<<< HEAD
       "[611 rows x 3 columns], empty_encoding=False, constraints=[], comp_rep=     Time_h    pH  Inhib_Concentrat_M  Salt_Concentrat_M  SMILES_FP_1  \\\n",
       "0      24.0   4.0              0.0010               0.10            0   \n",
       "1      24.0  10.0              0.0010               0.10            0   \n",
       "2      24.0   4.0              0.0010               0.10            0   \n",
       "3      24.0  10.0              0.0010               0.10            0   \n",
       "4      24.0   4.0              0.0010               0.10            1   \n",
       "..      ...   ...                 ...                ...          ...   \n",
       "606    24.0   7.0              0.0005               0.05            0   \n",
       "607    24.0   7.0              0.0005               0.05            0   \n",
       "608    24.0   7.0              0.0005               0.05            0   \n",
       "609    24.0   7.0              0.0005               0.05            0   \n",
       "610    24.0   7.0              0.0005               0.05            0   \n",
       "\n",
       "     SMILES_FP_2  SMILES_FP_3  SMILES_FP_4  SMILES_FP_5  SMILES_FP_6  ...  \\\n",
       "0              0            0            0            0            0  ...   \n",
       "1              0            0            0            0            0  ...   \n",
       "2              0            0            0            0            1  ...   \n",
       "3              0            0            0            0            1  ...   \n",
       "4              0            1            1            0            0  ...   \n",
       "..           ...          ...          ...          ...          ...  ...   \n",
       "606            0            0            0            0            0  ...   \n",
       "607            0            0            0            0            0  ...   \n",
       "608            0            0            0            0            0  ...   \n",
       "609            0            0            0            0            0  ...   \n",
       "610            0            0            0            0            0  ...   \n",
       "\n",
       "     SMILES_FP_984  SMILES_FP_991  SMILES_FP_994  SMILES_FP_996  \\\n",
       "0                0              0              0              0   \n",
       "1                0              0              0              0   \n",
       "2                0              0              0              0   \n",
       "3                0              0              0              0   \n",
       "4                0              0              0              0   \n",
       "..             ...            ...            ...            ...   \n",
       "606              0              0              0              0   \n",
       "607              0              0              0              0   \n",
       "608              0              0              0              0   \n",
       "609              0              0              0              0   \n",
       "610              0              0              0              0   \n",
       "\n",
       "     SMILES_FP_998  SMILES_FP_1006  SMILES_FP_1010  SMILES_FP_1015  \\\n",
       "0                0               1               0               0   \n",
       "1                0               1               0               0   \n",
       "2                0               0               0               0   \n",
       "3                0               0               0               0   \n",
       "4                0               0               0               0   \n",
       "..             ...             ...             ...             ...   \n",
       "606              0               0               0               1   \n",
       "607              0               0               0               0   \n",
       "608              0               0               0               0   \n",
       "609              0               0               0               0   \n",
       "610              0               0               0               0   \n",
       "\n",
       "     SMILES_FP_1018  SMILES_FP_1024  \n",
       "0                 1               0  \n",
       "1                 1               0  \n",
       "2                 0               0  \n",
       "3                 0               0  \n",
       "4                 0               0  \n",
       "..              ...             ...  \n",
       "606               0               0  \n",
       "607               0               1  \n",
       "608               0               1  \n",
       "609               0               0  \n",
       "610               0               0  \n",
       "\n",
       "[611 rows x 388 columns]), continuous=SubspaceContinuous(parameters=[], constraints_lin_eq=[], constraints_lin_ineq=[]))"
      ]
     },
     "execution_count": 9,
=======
       "[611 rows x 3 columns], empty_encoding=False, constraints=[], comp_rep=     SMILES_COCCOC(=O)OCSc1nc2c(s1)cccc2  \\\n",
       "0                                      1   \n",
       "1                                      1   \n",
       "2                                      0   \n",
       "3                                      0   \n",
       "4                                      0   \n",
       "..                                   ...   \n",
       "606                                    0   \n",
       "607                                    0   \n",
       "608                                    0   \n",
       "609                                    0   \n",
       "610                                    0   \n",
       "\n",
       "     SMILES_Cc1ccc(c(c1)n1nc2c(n1)cccc2)O  \\\n",
       "0                                       0   \n",
       "1                                       0   \n",
       "2                                       1   \n",
       "3                                       1   \n",
       "4                                       0   \n",
       "..                                    ...   \n",
       "606                                     0   \n",
       "607                                     0   \n",
       "608                                     0   \n",
       "609                                     0   \n",
       "610                                     0   \n",
       "\n",
       "     SMILES_Clc1ccc(cc1)CC[C@](C(C)(C)C)(Cn1cncn1)O  SMILES_On1nnc2c1cccc2  \\\n",
       "0                                                 0                      0   \n",
       "1                                                 0                      0   \n",
       "2                                                 0                      0   \n",
       "3                                                 0                      0   \n",
       "4                                                 1                      0   \n",
       "..                                              ...                    ...   \n",
       "606                                               0                      0   \n",
       "607                                               0                      0   \n",
       "608                                               0                      0   \n",
       "609                                               0                      0   \n",
       "610                                               0                      0   \n",
       "\n",
       "     SMILES_c1ncn[nH]1  SMILES_Sc1n[nH]cn1  SMILES_S[C]1NC2=C[CH]C=NC2=N1  \\\n",
       "0                    0                   0                              0   \n",
       "1                    0                   0                              0   \n",
       "2                    0                   0                              0   \n",
       "3                    0                   0                              0   \n",
       "4                    0                   0                              0   \n",
       "..                 ...                 ...                            ...   \n",
       "606                  0                   0                              0   \n",
       "607                  0                   0                              0   \n",
       "608                  0                   0                              0   \n",
       "609                  0                   0                              0   \n",
       "610                  0                   0                              0   \n",
       "\n",
       "     SMILES_S=c1[nH]c2c([nH]1)nccn2  SMILES_Sc1ncc[nH]1  \\\n",
       "0                                 0                   0   \n",
       "1                                 0                   0   \n",
       "2                                 0                   0   \n",
       "3                                 0                   0   \n",
       "4                                 0                   0   \n",
       "..                              ...                 ...   \n",
       "606                               0                   0   \n",
       "607                               0                   0   \n",
       "608                               0                   0   \n",
       "609                               0                   0   \n",
       "610                               0                   0   \n",
       "\n",
       "     SMILES_C=CC(=O)OCCOC(=O)OCCSc1ncccn1  ...  \\\n",
       "0                                       0  ...   \n",
       "1                                       0  ...   \n",
       "2                                       0  ...   \n",
       "3                                       0  ...   \n",
       "4                                       0  ...   \n",
       "..                                    ...  ...   \n",
       "606                                     0  ...   \n",
       "607                                     0  ...   \n",
       "608                                     0  ...   \n",
       "609                                     0  ...   \n",
       "610                                     0  ...   \n",
       "\n",
       "     SMILES_C1=CC(=C(C=C1O)O)C=NNC(=S)N  \\\n",
       "0                                     0   \n",
       "1                                     0   \n",
       "2                                     0   \n",
       "3                                     0   \n",
       "4                                     0   \n",
       "..                                  ...   \n",
       "606                                   0   \n",
       "607                                   0   \n",
       "608                                   0   \n",
       "609                                   0   \n",
       "610                                   0   \n",
       "\n",
       "     SMILES_NC(=S)NN=CC1=C(C(=C(C=C1)O)O)O  \\\n",
       "0                                        0   \n",
       "1                                        0   \n",
       "2                                        0   \n",
       "3                                        0   \n",
       "4                                        0   \n",
       "..                                     ...   \n",
       "606                                      0   \n",
       "607                                      0   \n",
       "608                                      0   \n",
       "609                                      0   \n",
       "610                                      0   \n",
       "\n",
       "     SMILES_CCCCN(CCCC)C1=NC(=NC(=N1)NC(CCSC)C(=O)O)NC(CCSC)C(=O)O  \\\n",
       "0                                                    0               \n",
       "1                                                    0               \n",
       "2                                                    0               \n",
       "3                                                    0               \n",
       "4                                                    0               \n",
       "..                                                 ...               \n",
       "606                                                  0               \n",
       "607                                                  0               \n",
       "608                                                  0               \n",
       "609                                                  0               \n",
       "610                                                  0               \n",
       "\n",
       "     SMILES_C1=CC2=NNN=C2C=C1Cl  SMILES_O=C([O-])C(O)C(O)C(O)C(O)CO.[Na+]  \\\n",
       "0                             0                                         0   \n",
       "1                             0                                         0   \n",
       "2                             0                                         0   \n",
       "3                             0                                         0   \n",
       "4                             0                                         0   \n",
       "..                          ...                                       ...   \n",
       "606                           0                                         0   \n",
       "607                           0                                         0   \n",
       "608                           0                                         0   \n",
       "609                           0                                         0   \n",
       "610                           0                                         0   \n",
       "\n",
       "     SMILES_COC(=O)n1nnc2ccccc12  Time_h    pH  Inhib_Concentrat_M  \\\n",
       "0                              0    24.0   4.0              0.0010   \n",
       "1                              0    24.0  10.0              0.0010   \n",
       "2                              0    24.0   4.0              0.0010   \n",
       "3                              0    24.0  10.0              0.0010   \n",
       "4                              0    24.0   4.0              0.0010   \n",
       "..                           ...     ...   ...                 ...   \n",
       "606                            0    24.0   7.0              0.0005   \n",
       "607                            0    24.0   7.0              0.0005   \n",
       "608                            0    24.0   7.0              0.0005   \n",
       "609                            0    24.0   7.0              0.0005   \n",
       "610                            0    24.0   7.0              0.0005   \n",
       "\n",
       "     Salt_Concentrat_M  \n",
       "0                 0.10  \n",
       "1                 0.10  \n",
       "2                 0.10  \n",
       "3                 0.10  \n",
       "4                 0.10  \n",
       "..                 ...  \n",
       "606               0.05  \n",
       "607               0.05  \n",
       "608               0.05  \n",
       "609               0.05  \n",
       "610               0.05  \n",
       "\n",
       "[611 rows x 127 columns])"
      ]
     },
     "execution_count": 34,
>>>>>>> 81fe1362f5173acc5b0cfa176728c3c81228678c
     "metadata": {},
     "output_type": "execute_result"
    }
   ],
   "source": [
    "searchspace"
   ]
  },
  {
   "cell_type": "code",
<<<<<<< HEAD
   "execution_count": 13,
   "metadata": {},
   "outputs": [
    {
     "ename": "IndexError",
     "evalue": "boolean index did not match indexed array along dimension 0; dimension is 611 but corresponding boolean dimension is 921",
     "output_type": "error",
     "traceback": [
      "\u001b[0;31m---------------------------------------------------------------------------\u001b[0m",
      "\u001b[0;31mIndexError\u001b[0m                                Traceback (most recent call last)",
      "Cell \u001b[0;32mIn[13], line 8\u001b[0m\n\u001b[1;32m      5\u001b[0m N_DOE_ITERATIONS \u001b[38;5;241m=\u001b[39m \u001b[38;5;241m5\u001b[39m\n\u001b[1;32m      6\u001b[0m N_MC_ITERATIONS \u001b[38;5;241m=\u001b[39m \u001b[38;5;241m5\u001b[39m\n\u001b[0;32m----> 8\u001b[0m results \u001b[38;5;241m=\u001b[39m \u001b[43msimulate_experiment\u001b[49m\u001b[43m(\u001b[49m\n\u001b[1;32m      9\u001b[0m \u001b[43m    \u001b[49m\u001b[43mcampaign\u001b[49m\u001b[43m,\u001b[49m\n\u001b[1;32m     10\u001b[0m \u001b[43m    \u001b[49m\u001b[43mdf_AA2024\u001b[49m\u001b[43m,\u001b[49m\n\u001b[1;32m     11\u001b[0m \u001b[43m    \u001b[49m\u001b[43mbatch_size\u001b[49m\u001b[38;5;241;43m=\u001b[39;49m\u001b[43mBATCH_SIZE\u001b[49m\u001b[43m,\u001b[49m\n\u001b[1;32m     12\u001b[0m \u001b[43m    \u001b[49m\u001b[43mn_doe_iterations\u001b[49m\u001b[38;5;241;43m=\u001b[39;49m\u001b[43mN_DOE_ITERATIONS\u001b[49m\u001b[43m,\u001b[49m\n\u001b[1;32m     13\u001b[0m \u001b[43m    \u001b[49m\u001b[43mimpute_mode\u001b[49m\u001b[38;5;241;43m=\u001b[39;49m\u001b[38;5;124;43m\"\u001b[39;49m\u001b[38;5;124;43mignore\u001b[39;49m\u001b[38;5;124;43m\"\u001b[39;49m\u001b[43m,\u001b[49m\n\u001b[1;32m     14\u001b[0m \u001b[43m)\u001b[49m\n",
      "File \u001b[0;32m~/.local/lib/python3.10/site-packages/baybe/simulation.py:473\u001b[0m, in \u001b[0;36msimulate_experiment\u001b[0;34m(campaign, lookup, batch_size, n_doe_iterations, initial_data, random_seed, impute_mode, noise_percent)\u001b[0m\n\u001b[1;32m    471\u001b[0m \u001b[38;5;28;01mif\u001b[39;00m impute_mode \u001b[38;5;241m==\u001b[39m \u001b[38;5;124m\"\u001b[39m\u001b[38;5;124mignore\u001b[39m\u001b[38;5;124m\"\u001b[39m:\n\u001b[1;32m    472\u001b[0m     searchspace \u001b[38;5;241m=\u001b[39m campaign\u001b[38;5;241m.\u001b[39msearchspace\u001b[38;5;241m.\u001b[39mdiscrete\u001b[38;5;241m.\u001b[39mexp_rep\n\u001b[0;32m--> 473\u001b[0m     missing_inds \u001b[38;5;241m=\u001b[39m \u001b[43msearchspace\u001b[49m\u001b[38;5;241;43m.\u001b[39;49m\u001b[43mindex\u001b[49m\u001b[43m[\u001b[49m\n\u001b[1;32m    474\u001b[0m \u001b[43m        \u001b[49m\u001b[43msearchspace\u001b[49m\u001b[38;5;241;43m.\u001b[39;49m\u001b[43mmerge\u001b[49m\u001b[43m(\u001b[49m\u001b[43mlookup\u001b[49m\u001b[43m,\u001b[49m\u001b[43m \u001b[49m\u001b[43mhow\u001b[49m\u001b[38;5;241;43m=\u001b[39;49m\u001b[38;5;124;43m\"\u001b[39;49m\u001b[38;5;124;43mleft\u001b[39;49m\u001b[38;5;124;43m\"\u001b[39;49m\u001b[43m,\u001b[49m\u001b[43m \u001b[49m\u001b[43mindicator\u001b[49m\u001b[38;5;241;43m=\u001b[39;49m\u001b[38;5;28;43;01mTrue\u001b[39;49;00m\u001b[43m)\u001b[49m\u001b[43m[\u001b[49m\u001b[38;5;124;43m\"\u001b[39;49m\u001b[38;5;124;43m_merge\u001b[39;49m\u001b[38;5;124;43m\"\u001b[39;49m\u001b[43m]\u001b[49m\n\u001b[1;32m    475\u001b[0m \u001b[43m        \u001b[49m\u001b[38;5;241;43m==\u001b[39;49m\u001b[43m \u001b[49m\u001b[38;5;124;43m\"\u001b[39;49m\u001b[38;5;124;43mleft_only\u001b[39;49m\u001b[38;5;124;43m\"\u001b[39;49m\n\u001b[1;32m    476\u001b[0m \u001b[43m    \u001b[49m\u001b[43m]\u001b[49m\n\u001b[1;32m    477\u001b[0m     campaign\u001b[38;5;241m.\u001b[39msearchspace\u001b[38;5;241m.\u001b[39mdiscrete\u001b[38;5;241m.\u001b[39mmetadata\u001b[38;5;241m.\u001b[39mloc[\n\u001b[1;32m    478\u001b[0m         missing_inds, \u001b[38;5;124m\"\u001b[39m\u001b[38;5;124mdont_recommend\u001b[39m\u001b[38;5;124m\"\u001b[39m\n\u001b[1;32m    479\u001b[0m     ] \u001b[38;5;241m=\u001b[39m \u001b[38;5;28;01mTrue\u001b[39;00m\n\u001b[1;32m    481\u001b[0m \u001b[38;5;66;03m# Run the DOE loop\u001b[39;00m\n",
      "File \u001b[0;32m~/.local/lib/python3.10/site-packages/pandas/core/indexes/range.py:1030\u001b[0m, in \u001b[0;36mRangeIndex.__getitem__\u001b[0;34m(self, key)\u001b[0m\n\u001b[1;32m   1023\u001b[0m \u001b[38;5;28;01melif\u001b[39;00m is_scalar(key):\n\u001b[1;32m   1024\u001b[0m     \u001b[38;5;28;01mraise\u001b[39;00m \u001b[38;5;167;01mIndexError\u001b[39;00m(\n\u001b[1;32m   1025\u001b[0m         \u001b[38;5;124m\"\u001b[39m\u001b[38;5;124monly integers, slices (`:`), \u001b[39m\u001b[38;5;124m\"\u001b[39m\n\u001b[1;32m   1026\u001b[0m         \u001b[38;5;124m\"\u001b[39m\u001b[38;5;124mellipsis (`...`), numpy.newaxis (`None`) \u001b[39m\u001b[38;5;124m\"\u001b[39m\n\u001b[1;32m   1027\u001b[0m         \u001b[38;5;124m\"\u001b[39m\u001b[38;5;124mand integer or boolean \u001b[39m\u001b[38;5;124m\"\u001b[39m\n\u001b[1;32m   1028\u001b[0m         \u001b[38;5;124m\"\u001b[39m\u001b[38;5;124marrays are valid indices\u001b[39m\u001b[38;5;124m\"\u001b[39m\n\u001b[1;32m   1029\u001b[0m     )\n\u001b[0;32m-> 1030\u001b[0m \u001b[38;5;28;01mreturn\u001b[39;00m \u001b[38;5;28;43msuper\u001b[39;49m\u001b[43m(\u001b[49m\u001b[43m)\u001b[49m\u001b[38;5;241;43m.\u001b[39;49m\u001b[38;5;21;43m__getitem__\u001b[39;49m\u001b[43m(\u001b[49m\u001b[43mkey\u001b[49m\u001b[43m)\u001b[49m\n",
      "File \u001b[0;32m~/.local/lib/python3.10/site-packages/pandas/core/indexes/base.py:5416\u001b[0m, in \u001b[0;36mIndex.__getitem__\u001b[0;34m(self, key)\u001b[0m\n\u001b[1;32m   5407\u001b[0m         \u001b[38;5;28;01mif\u001b[39;00m \u001b[38;5;28mlen\u001b[39m(key) \u001b[38;5;241m==\u001b[39m \u001b[38;5;241m0\u001b[39m \u001b[38;5;129;01mand\u001b[39;00m \u001b[38;5;28mlen\u001b[39m(key) \u001b[38;5;241m!=\u001b[39m \u001b[38;5;28mlen\u001b[39m(\u001b[38;5;28mself\u001b[39m):\n\u001b[1;32m   5408\u001b[0m             warnings\u001b[38;5;241m.\u001b[39mwarn(\n\u001b[1;32m   5409\u001b[0m                 \u001b[38;5;124m\"\u001b[39m\u001b[38;5;124mUsing a boolean indexer with length 0 on an Index with \u001b[39m\u001b[38;5;124m\"\u001b[39m\n\u001b[1;32m   5410\u001b[0m                 \u001b[38;5;124m\"\u001b[39m\u001b[38;5;124mlength greater than 0 is deprecated and will raise in a \u001b[39m\u001b[38;5;124m\"\u001b[39m\n\u001b[0;32m   (...)\u001b[0m\n\u001b[1;32m   5413\u001b[0m                 stacklevel\u001b[38;5;241m=\u001b[39mfind_stack_level(),\n\u001b[1;32m   5414\u001b[0m             )\n\u001b[0;32m-> 5416\u001b[0m result \u001b[38;5;241m=\u001b[39m \u001b[43mgetitem\u001b[49m\u001b[43m(\u001b[49m\u001b[43mkey\u001b[49m\u001b[43m)\u001b[49m\n\u001b[1;32m   5417\u001b[0m \u001b[38;5;66;03m# Because we ruled out integer above, we always get an arraylike here\u001b[39;00m\n\u001b[1;32m   5418\u001b[0m \u001b[38;5;28;01mif\u001b[39;00m result\u001b[38;5;241m.\u001b[39mndim \u001b[38;5;241m>\u001b[39m \u001b[38;5;241m1\u001b[39m:\n",
      "\u001b[0;31mIndexError\u001b[0m: boolean index did not match indexed array along dimension 0; dimension is 611 but corresponding boolean dimension is 921"
     ]
    }
   ],
   "source": [
    "from baybe.simulation import simulate_experiment\n",
    "\n",
    "lookup=df_AA2024\n",
    "BATCH_SIZE = 1\n",
    "N_DOE_ITERATIONS = 5\n",
    "N_MC_ITERATIONS = 5\n",
    "\n",
    "results = simulate_experiment(\n",
    "    campaign,\n",
    "    df_AA2024,\n",
    "    batch_size=BATCH_SIZE,\n",
    "    n_doe_iterations=N_DOE_ITERATIONS,\n",
    "    impute_mode=\"ignore\",\n",
    ")"
   ]
  },
  {
   "cell_type": "code",
=======
>>>>>>> 81fe1362f5173acc5b0cfa176728c3c81228678c
   "execution_count": null,
   "metadata": {},
   "outputs": [],
   "source": [
    "results = simulate_scenarios(\n",
    "    # Necessary\n",
    "    campaign=campaign,\n",
    "    # Technically optional but should always be set\n",
    "    lookup=lookup,\n",
    "    # Optional\n",
    "    batch_size=batch_size,\n",
    "    n_doe_iterations=n_doe_iterations,\n",
    "    initial_data=initial_data,\n",
    "    random_seed=random_seed,\n",
    "    impute_mode=impute_mode,\n",
    "    noise_percent=noise_percent,\n",
    ")"
   ]
  },
  {
   "cell_type": "markdown",
   "metadata": {},
   "source": [
    "## Search Space"
   ]
  },
  {
   "cell_type": "code",
   "execution_count": null,
   "metadata": {},
   "outputs": [],
   "source": []
  },
  {
   "cell_type": "markdown",
   "metadata": {},
   "source": [
    "## Target & Objective"
   ]
  },
  {
   "cell_type": "code",
   "execution_count": null,
   "metadata": {},
   "outputs": [],
   "source": [
    "from baybe.targets import NumericalTarget\n",
    "from baybe.objective import Objective\n",
    "\n",
    "target = NumericalTarget(\n",
    "    name=\"Efficiency\",\n",
    "    mode=\"MAX\",\n",
    ")\n",
    "objective = Objective(mode=\"SINGLE\", targets=[target])"
   ]
  },
  {
   "cell_type": "markdown",
   "metadata": {},
   "source": [
    "## Recommender"
   ]
  },
  {
   "cell_type": "code",
   "execution_count": null,
   "metadata": {},
   "outputs": [],
   "source": []
  },
  {
   "cell_type": "markdown",
   "metadata": {},
   "source": [
    "# Benchmarking"
   ]
  },
  {
   "cell_type": "code",
   "execution_count": null,
   "metadata": {},
   "outputs": [],
   "source": []
  },
  {
   "cell_type": "markdown",
   "metadata": {},
   "source": [
    "# Transfer Learning"
   ]
  },
  {
   "cell_type": "code",
   "execution_count": null,
   "metadata": {},
   "outputs": [],
   "source": []
  }
 ],
 "metadata": {
  "kernelspec": {
   "display_name": "Python 3",
   "language": "python",
   "name": "python3"
  },
  "language_info": {
   "codemirror_mode": {
    "name": "ipython",
    "version": 3
   },
   "file_extension": ".py",
   "mimetype": "text/x-python",
   "name": "python",
   "nbconvert_exporter": "python",
   "pygments_lexer": "ipython3",
   "version": "3.10.12"
  }
 },
 "nbformat": 4,
 "nbformat_minor": 2
}
